{
 "cells": [
  {
   "cell_type": "markdown",
   "id": "220b1491-d5ef-47d7-a9b0-0078e17c2fa7",
   "metadata": {},
   "source": [
    "## Spam Email Classifier\n"
   ]
  },
  {
   "cell_type": "code",
   "execution_count": 1,
   "id": "93b559c4-dafa-4a24-8be1-9df8c083f07c",
   "metadata": {},
   "outputs": [],
   "source": [
    "import numpy as np\n",
    "import pandas as pd"
   ]
  },
  {
   "cell_type": "code",
   "execution_count": 2,
   "id": "5872535d-32c6-451e-8e2f-7626573e7aec",
   "metadata": {},
   "outputs": [],
   "source": [
    "df = pd.read_csv('spam.csv', encoding='ISO-8859-1')\n",
    "df.to_csv('spam.csv', encoding='utf-8', index=False)"
   ]
  },
  {
   "cell_type": "code",
   "execution_count": 3,
   "id": "f28bed55-70c9-4f7e-998f-35c3d1d8f61b",
   "metadata": {},
   "outputs": [
    {
     "data": {
      "text/html": [
       "<div>\n",
       "<style scoped>\n",
       "    .dataframe tbody tr th:only-of-type {\n",
       "        vertical-align: middle;\n",
       "    }\n",
       "\n",
       "    .dataframe tbody tr th {\n",
       "        vertical-align: top;\n",
       "    }\n",
       "\n",
       "    .dataframe thead th {\n",
       "        text-align: right;\n",
       "    }\n",
       "</style>\n",
       "<table border=\"1\" class=\"dataframe\">\n",
       "  <thead>\n",
       "    <tr style=\"text-align: right;\">\n",
       "      <th></th>\n",
       "      <th>v1</th>\n",
       "      <th>v2</th>\n",
       "      <th>Unnamed: 2</th>\n",
       "      <th>Unnamed: 3</th>\n",
       "      <th>Unnamed: 4</th>\n",
       "    </tr>\n",
       "  </thead>\n",
       "  <tbody>\n",
       "    <tr>\n",
       "      <th>1344</th>\n",
       "      <td>ham</td>\n",
       "      <td>Were somewhere on Fredericksburg</td>\n",
       "      <td>NaN</td>\n",
       "      <td>NaN</td>\n",
       "      <td>NaN</td>\n",
       "    </tr>\n",
       "    <tr>\n",
       "      <th>2448</th>\n",
       "      <td>ham</td>\n",
       "      <td>Do u knw dis no. &amp;lt;#&amp;gt; ?</td>\n",
       "      <td>NaN</td>\n",
       "      <td>NaN</td>\n",
       "      <td>NaN</td>\n",
       "    </tr>\n",
       "    <tr>\n",
       "      <th>286</th>\n",
       "      <td>ham</td>\n",
       "      <td>Ok..</td>\n",
       "      <td>NaN</td>\n",
       "      <td>NaN</td>\n",
       "      <td>NaN</td>\n",
       "    </tr>\n",
       "    <tr>\n",
       "      <th>308</th>\n",
       "      <td>spam</td>\n",
       "      <td>TheMob&gt; Check out our newest selection of cont...</td>\n",
       "      <td>NaN</td>\n",
       "      <td>NaN</td>\n",
       "      <td>NaN</td>\n",
       "    </tr>\n",
       "    <tr>\n",
       "      <th>4870</th>\n",
       "      <td>ham</td>\n",
       "      <td>Well. You know what i mean. Texting</td>\n",
       "      <td>NaN</td>\n",
       "      <td>NaN</td>\n",
       "      <td>NaN</td>\n",
       "    </tr>\n",
       "  </tbody>\n",
       "</table>\n",
       "</div>"
      ],
      "text/plain": [
       "        v1                                                 v2 Unnamed: 2  \\\n",
       "1344   ham                   Were somewhere on Fredericksburg        NaN   \n",
       "2448   ham                       Do u knw dis no. &lt;#&gt; ?        NaN   \n",
       "286    ham                                               Ok..        NaN   \n",
       "308   spam  TheMob> Check out our newest selection of cont...        NaN   \n",
       "4870   ham                Well. You know what i mean. Texting        NaN   \n",
       "\n",
       "     Unnamed: 3 Unnamed: 4  \n",
       "1344        NaN        NaN  \n",
       "2448        NaN        NaN  \n",
       "286         NaN        NaN  \n",
       "308         NaN        NaN  \n",
       "4870        NaN        NaN  "
      ]
     },
     "execution_count": 3,
     "metadata": {},
     "output_type": "execute_result"
    }
   ],
   "source": [
    "df.sample(5)"
   ]
  },
  {
   "cell_type": "code",
   "execution_count": 4,
   "id": "2ffa6767-ba5b-4520-b08d-488ef6667be6",
   "metadata": {},
   "outputs": [
    {
     "data": {
      "text/plain": [
       "(5572, 5)"
      ]
     },
     "execution_count": 4,
     "metadata": {},
     "output_type": "execute_result"
    }
   ],
   "source": [
    "df.shape"
   ]
  },
  {
   "cell_type": "markdown",
   "id": "7662909d-de06-41e7-8c1f-7a6ee9e08b1b",
   "metadata": {},
   "source": [
    "#### DATA CLEANING"
   ]
  },
  {
   "cell_type": "code",
   "execution_count": 5,
   "id": "96e2b5f2-e4b9-44d0-81f4-0d7948e6cb21",
   "metadata": {},
   "outputs": [
    {
     "name": "stdout",
     "output_type": "stream",
     "text": [
      "<class 'pandas.core.frame.DataFrame'>\n",
      "RangeIndex: 5572 entries, 0 to 5571\n",
      "Data columns (total 5 columns):\n",
      " #   Column      Non-Null Count  Dtype \n",
      "---  ------      --------------  ----- \n",
      " 0   v1          5572 non-null   object\n",
      " 1   v2          5572 non-null   object\n",
      " 2   Unnamed: 2  50 non-null     object\n",
      " 3   Unnamed: 3  12 non-null     object\n",
      " 4   Unnamed: 4  6 non-null      object\n",
      "dtypes: object(5)\n",
      "memory usage: 217.8+ KB\n"
     ]
    }
   ],
   "source": [
    "df.info()"
   ]
  },
  {
   "cell_type": "code",
   "execution_count": 6,
   "id": "f2d46015-6851-4faa-9ce4-27617e9899d0",
   "metadata": {},
   "outputs": [],
   "source": [
    "#drop last three columns -since they have very less number of non null values\n",
    "df.drop(columns=['Unnamed: 2','Unnamed: 3','Unnamed: 4'],inplace=True)"
   ]
  },
  {
   "cell_type": "code",
   "execution_count": 7,
   "id": "ff71fef4-383c-4fe1-a46b-6ce92a7e8a11",
   "metadata": {},
   "outputs": [
    {
     "data": {
      "text/html": [
       "<div>\n",
       "<style scoped>\n",
       "    .dataframe tbody tr th:only-of-type {\n",
       "        vertical-align: middle;\n",
       "    }\n",
       "\n",
       "    .dataframe tbody tr th {\n",
       "        vertical-align: top;\n",
       "    }\n",
       "\n",
       "    .dataframe thead th {\n",
       "        text-align: right;\n",
       "    }\n",
       "</style>\n",
       "<table border=\"1\" class=\"dataframe\">\n",
       "  <thead>\n",
       "    <tr style=\"text-align: right;\">\n",
       "      <th></th>\n",
       "      <th>v1</th>\n",
       "      <th>v2</th>\n",
       "    </tr>\n",
       "  </thead>\n",
       "  <tbody>\n",
       "    <tr>\n",
       "      <th>4506</th>\n",
       "      <td>ham</td>\n",
       "      <td>He neva grumble but i sad lor... Hee... Buy tm...</td>\n",
       "    </tr>\n",
       "    <tr>\n",
       "      <th>46</th>\n",
       "      <td>ham</td>\n",
       "      <td>Didn't you get hep b immunisation in nigeria.</td>\n",
       "    </tr>\n",
       "    <tr>\n",
       "      <th>5297</th>\n",
       "      <td>ham</td>\n",
       "      <td>My darling sister. How are you doing. When's s...</td>\n",
       "    </tr>\n",
       "    <tr>\n",
       "      <th>4882</th>\n",
       "      <td>ham</td>\n",
       "      <td>New Theory: Argument wins d SITUATION, but los...</td>\n",
       "    </tr>\n",
       "    <tr>\n",
       "      <th>278</th>\n",
       "      <td>ham</td>\n",
       "      <td>Just sent it. So what type of food do you like?</td>\n",
       "    </tr>\n",
       "  </tbody>\n",
       "</table>\n",
       "</div>"
      ],
      "text/plain": [
       "       v1                                                 v2\n",
       "4506  ham  He neva grumble but i sad lor... Hee... Buy tm...\n",
       "46    ham      Didn't you get hep b immunisation in nigeria.\n",
       "5297  ham  My darling sister. How are you doing. When's s...\n",
       "4882  ham  New Theory: Argument wins d SITUATION, but los...\n",
       "278   ham    Just sent it. So what type of food do you like?"
      ]
     },
     "execution_count": 7,
     "metadata": {},
     "output_type": "execute_result"
    }
   ],
   "source": [
    "df.sample(5)"
   ]
  },
  {
   "cell_type": "code",
   "execution_count": 8,
   "id": "accb33f9-5d6e-4dbd-97de-89096d37189f",
   "metadata": {},
   "outputs": [],
   "source": [
    "#renaming theclumns v1 and v2 to make them more descriptive\n",
    "df.rename(columns={'v1':'category','v2':'text'},inplace=True)"
   ]
  },
  {
   "cell_type": "code",
   "execution_count": 9,
   "id": "b7722dec-d17d-44a7-8b86-c8b37f2512db",
   "metadata": {},
   "outputs": [
    {
     "data": {
      "text/html": [
       "<div>\n",
       "<style scoped>\n",
       "    .dataframe tbody tr th:only-of-type {\n",
       "        vertical-align: middle;\n",
       "    }\n",
       "\n",
       "    .dataframe tbody tr th {\n",
       "        vertical-align: top;\n",
       "    }\n",
       "\n",
       "    .dataframe thead th {\n",
       "        text-align: right;\n",
       "    }\n",
       "</style>\n",
       "<table border=\"1\" class=\"dataframe\">\n",
       "  <thead>\n",
       "    <tr style=\"text-align: right;\">\n",
       "      <th></th>\n",
       "      <th>category</th>\n",
       "      <th>text</th>\n",
       "    </tr>\n",
       "  </thead>\n",
       "  <tbody>\n",
       "    <tr>\n",
       "      <th>976</th>\n",
       "      <td>ham</td>\n",
       "      <td>Ok i shall talk to him</td>\n",
       "    </tr>\n",
       "    <tr>\n",
       "      <th>3650</th>\n",
       "      <td>ham</td>\n",
       "      <td>Want to send me a virtual hug?... I need one</td>\n",
       "    </tr>\n",
       "    <tr>\n",
       "      <th>714</th>\n",
       "      <td>ham</td>\n",
       "      <td>He also knows about lunch menu only da. . I know</td>\n",
       "    </tr>\n",
       "    <tr>\n",
       "      <th>1752</th>\n",
       "      <td>ham</td>\n",
       "      <td>Give one miss from that number please</td>\n",
       "    </tr>\n",
       "    <tr>\n",
       "      <th>3713</th>\n",
       "      <td>ham</td>\n",
       "      <td>Oh, i will get paid. The most outstanding one ...</td>\n",
       "    </tr>\n",
       "  </tbody>\n",
       "</table>\n",
       "</div>"
      ],
      "text/plain": [
       "     category                                               text\n",
       "976       ham                             Ok i shall talk to him\n",
       "3650      ham       Want to send me a virtual hug?... I need one\n",
       "714       ham   He also knows about lunch menu only da. . I know\n",
       "1752      ham              Give one miss from that number please\n",
       "3713      ham  Oh, i will get paid. The most outstanding one ..."
      ]
     },
     "execution_count": 9,
     "metadata": {},
     "output_type": "execute_result"
    }
   ],
   "source": [
    "df.sample(5)"
   ]
  },
  {
   "cell_type": "code",
   "execution_count": 10,
   "id": "004800ba-cac2-4a97-8148-4c9ffcf2486b",
   "metadata": {},
   "outputs": [],
   "source": [
    "#convert the labels using label encoders\n",
    "from sklearn.preprocessing import LabelEncoder\n",
    "encoder=LabelEncoder()"
   ]
  },
  {
   "cell_type": "code",
   "execution_count": 11,
   "id": "9f602b68-e91f-4fc1-a7ea-aeaeb8b0d219",
   "metadata": {},
   "outputs": [
    {
     "data": {
      "text/plain": [
       "array([0, 0, 1, ..., 0, 0, 0])"
      ]
     },
     "execution_count": 11,
     "metadata": {},
     "output_type": "execute_result"
    }
   ],
   "source": [
    "encoder.fit_transform(df['category'])"
   ]
  },
  {
   "cell_type": "code",
   "execution_count": 12,
   "id": "7c2257aa-44a4-42c1-8097-4188a7b101fd",
   "metadata": {},
   "outputs": [],
   "source": [
    "df['category']=encoder.fit_transform(df['category'])"
   ]
  },
  {
   "cell_type": "code",
   "execution_count": 13,
   "id": "4179e19f-9e9f-48c2-8553-d4a4b83ca273",
   "metadata": {},
   "outputs": [
    {
     "data": {
      "text/html": [
       "<div>\n",
       "<style scoped>\n",
       "    .dataframe tbody tr th:only-of-type {\n",
       "        vertical-align: middle;\n",
       "    }\n",
       "\n",
       "    .dataframe tbody tr th {\n",
       "        vertical-align: top;\n",
       "    }\n",
       "\n",
       "    .dataframe thead th {\n",
       "        text-align: right;\n",
       "    }\n",
       "</style>\n",
       "<table border=\"1\" class=\"dataframe\">\n",
       "  <thead>\n",
       "    <tr style=\"text-align: right;\">\n",
       "      <th></th>\n",
       "      <th>category</th>\n",
       "      <th>text</th>\n",
       "    </tr>\n",
       "  </thead>\n",
       "  <tbody>\n",
       "    <tr>\n",
       "      <th>0</th>\n",
       "      <td>0</td>\n",
       "      <td>Go until jurong point, crazy.. Available only ...</td>\n",
       "    </tr>\n",
       "    <tr>\n",
       "      <th>1</th>\n",
       "      <td>0</td>\n",
       "      <td>Ok lar... Joking wif u oni...</td>\n",
       "    </tr>\n",
       "    <tr>\n",
       "      <th>2</th>\n",
       "      <td>1</td>\n",
       "      <td>Free entry in 2 a wkly comp to win FA Cup fina...</td>\n",
       "    </tr>\n",
       "    <tr>\n",
       "      <th>3</th>\n",
       "      <td>0</td>\n",
       "      <td>U dun say so early hor... U c already then say...</td>\n",
       "    </tr>\n",
       "    <tr>\n",
       "      <th>4</th>\n",
       "      <td>0</td>\n",
       "      <td>Nah I don't think he goes to usf, he lives aro...</td>\n",
       "    </tr>\n",
       "  </tbody>\n",
       "</table>\n",
       "</div>"
      ],
      "text/plain": [
       "   category                                               text\n",
       "0         0  Go until jurong point, crazy.. Available only ...\n",
       "1         0                      Ok lar... Joking wif u oni...\n",
       "2         1  Free entry in 2 a wkly comp to win FA Cup fina...\n",
       "3         0  U dun say so early hor... U c already then say...\n",
       "4         0  Nah I don't think he goes to usf, he lives aro..."
      ]
     },
     "execution_count": 13,
     "metadata": {},
     "output_type": "execute_result"
    }
   ],
   "source": [
    "df.head(5)"
   ]
  },
  {
   "cell_type": "code",
   "execution_count": 14,
   "id": "2f76223f-d22d-4bf9-9f1f-a2bbe95822a9",
   "metadata": {},
   "outputs": [
    {
     "data": {
      "text/plain": [
       "category    0\n",
       "text        0\n",
       "dtype: int64"
      ]
     },
     "execution_count": 14,
     "metadata": {},
     "output_type": "execute_result"
    }
   ],
   "source": [
    "#check for missing values\n",
    "df.isnull().sum()"
   ]
  },
  {
   "cell_type": "code",
   "execution_count": 15,
   "id": "d3cd3a78-d560-4d2f-845c-e001177422f6",
   "metadata": {},
   "outputs": [
    {
     "data": {
      "text/plain": [
       "403"
      ]
     },
     "execution_count": 15,
     "metadata": {},
     "output_type": "execute_result"
    }
   ],
   "source": [
    "#checking for duplicate values\n",
    "df.duplicated().sum()"
   ]
  },
  {
   "cell_type": "markdown",
   "id": "1c043a7d-188b-43e8-ad41-ea4722068585",
   "metadata": {},
   "source": [
    "Since,there are 403 duplicated values ,they need to be dropped"
   ]
  },
  {
   "cell_type": "code",
   "execution_count": 16,
   "id": "8c75bcce-458c-4a3e-9b8d-c8e6d103effb",
   "metadata": {},
   "outputs": [],
   "source": [
    "#remove duplicated values\n",
    "df=df.drop_duplicates(keep='first')"
   ]
  },
  {
   "cell_type": "code",
   "execution_count": 17,
   "id": "4a67a55c-3fd4-4566-a1bd-b7a85e6b8172",
   "metadata": {},
   "outputs": [
    {
     "data": {
      "text/plain": [
       "0"
      ]
     },
     "execution_count": 17,
     "metadata": {},
     "output_type": "execute_result"
    }
   ],
   "source": [
    "df.duplicated().sum()"
   ]
  },
  {
   "cell_type": "code",
   "execution_count": 18,
   "id": "6e5cda05-e601-4579-aee7-c2f85dbc4a7d",
   "metadata": {},
   "outputs": [
    {
     "data": {
      "text/plain": [
       "(5169, 2)"
      ]
     },
     "execution_count": 18,
     "metadata": {},
     "output_type": "execute_result"
    }
   ],
   "source": [
    "df.shape"
   ]
  },
  {
   "cell_type": "markdown",
   "id": "3e3e4947-1cc6-4be0-b1eb-1b66c3539c31",
   "metadata": {},
   "source": [
    "#### EXPLORATORY DATA ANALYSIS (EDA)\n",
    "In any supervised machine learning project , it is an important step to analyse the data to gain some understanding about the data\n"
   ]
  },
  {
   "cell_type": "code",
   "execution_count": 19,
   "id": "92fd21ed-072b-4606-b542-e40934829923",
   "metadata": {},
   "outputs": [
    {
     "data": {
      "text/plain": [
       "category\n",
       "0    4516\n",
       "1     653\n",
       "Name: count, dtype: int64"
      ]
     },
     "execution_count": 19,
     "metadata": {},
     "output_type": "execute_result"
    }
   ],
   "source": [
    "#checking the number of spams and hams in the dataset\n",
    "df['category'].value_counts()"
   ]
  },
  {
   "cell_type": "code",
   "execution_count": 20,
   "id": "22931880-b618-4f13-96bc-66d856e342f1",
   "metadata": {},
   "outputs": [
    {
     "data": {
      "image/png": "[encoded data removed]",
      "text/plain": [
       "<Figure size 640x480 with 1 Axes>"
      ]
     },
     "metadata": {},
     "output_type": "display_data"
    }
   ],
   "source": [
    "import matplotlib.pyplot as plt\n",
    "plt.pie(df['category'].value_counts(),labels=['Ham','Spam'],autopct=\"%0.1f\")\n",
    "plt.show()"
   ]
  },
  {
   "cell_type": "markdown",
   "id": "c3235daa-ee9d-47ef-b699-34904084a669",
   "metadata": {},
   "source": [
    "Data is imbalanced"
   ]
  },
  {
   "cell_type": "markdown",
   "id": "7dcfb94d-4379-4df2-b7ce-1bb8018acf68",
   "metadata": {},
   "source": [
    "#### NLTK- we will use this to do a word count , a character count on the messages"
   ]
  },
  {
   "cell_type": "code",
   "execution_count": 21,
   "id": "51cd3aef-8905-40ad-8b23-56230cc49d4e",
   "metadata": {},
   "outputs": [
    {
     "name": "stdout",
     "output_type": "stream",
     "text": [
      "Requirement already satisfied: nltk in /Users/anushkaghosh/miniforge3/lib/python3.10/site-packages (3.8.1)\n",
      "Requirement already satisfied: click in /Users/anushkaghosh/miniforge3/lib/python3.10/site-packages (from nltk) (8.1.7)\n",
      "Requirement already satisfied: joblib in /Users/anushkaghosh/miniforge3/lib/python3.10/site-packages (from nltk) (1.4.2)\n",
      "Requirement already satisfied: regex>=2021.8.3 in /Users/anushkaghosh/miniforge3/lib/python3.10/site-packages (from nltk) (2024.5.15)\n",
      "Requirement already satisfied: tqdm in /Users/anushkaghosh/miniforge3/lib/python3.10/site-packages (from nltk) (4.66.2)\n"
     ]
    }
   ],
   "source": [
    "!pip install nltk"
   ]
  },
  {
   "cell_type": "code",
   "execution_count": 22,
   "id": "4d9a76ce-63ff-4695-abd5-d5f037edaa76",
   "metadata": {},
   "outputs": [
    {
     "name": "stderr",
     "output_type": "stream",
     "text": [
      "[nltk_data] Downloading package punkt to\n",
      "[nltk_data]     /Users/anushkaghosh/nltk_data...\n",
      "[nltk_data]   Package punkt is already up-to-date!\n"
     ]
    },
    {
     "data": {
      "text/plain": [
       "True"
      ]
     },
     "execution_count": 22,
     "metadata": {},
     "output_type": "execute_result"
    }
   ],
   "source": [
    "import nltk\n",
    "nltk.download('punkt')"
   ]
  },
  {
   "cell_type": "code",
   "execution_count": 23,
   "id": "f3869e92-5cf1-445d-bc2a-7f17059b84e9",
   "metadata": {},
   "outputs": [],
   "source": [
    "df['num_characters']=df['text'].apply(len)"
   ]
  },
  {
   "cell_type": "code",
   "execution_count": 24,
   "id": "c108a823-1f74-45e4-a551-10d4f3e30920",
   "metadata": {},
   "outputs": [
    {
     "data": {
      "text/html": [
       "<div>\n",
       "<style scoped>\n",
       "    .dataframe tbody tr th:only-of-type {\n",
       "        vertical-align: middle;\n",
       "    }\n",
       "\n",
       "    .dataframe tbody tr th {\n",
       "        vertical-align: top;\n",
       "    }\n",
       "\n",
       "    .dataframe thead th {\n",
       "        text-align: right;\n",
       "    }\n",
       "</style>\n",
       "<table border=\"1\" class=\"dataframe\">\n",
       "  <thead>\n",
       "    <tr style=\"text-align: right;\">\n",
       "      <th></th>\n",
       "      <th>category</th>\n",
       "      <th>text</th>\n",
       "      <th>num_characters</th>\n",
       "    </tr>\n",
       "  </thead>\n",
       "  <tbody>\n",
       "    <tr>\n",
       "      <th>0</th>\n",
       "      <td>0</td>\n",
       "      <td>Go until jurong point, crazy.. Available only ...</td>\n",
       "      <td>111</td>\n",
       "    </tr>\n",
       "    <tr>\n",
       "      <th>1</th>\n",
       "      <td>0</td>\n",
       "      <td>Ok lar... Joking wif u oni...</td>\n",
       "      <td>29</td>\n",
       "    </tr>\n",
       "    <tr>\n",
       "      <th>2</th>\n",
       "      <td>1</td>\n",
       "      <td>Free entry in 2 a wkly comp to win FA Cup fina...</td>\n",
       "      <td>155</td>\n",
       "    </tr>\n",
       "    <tr>\n",
       "      <th>3</th>\n",
       "      <td>0</td>\n",
       "      <td>U dun say so early hor... U c already then say...</td>\n",
       "      <td>49</td>\n",
       "    </tr>\n",
       "    <tr>\n",
       "      <th>4</th>\n",
       "      <td>0</td>\n",
       "      <td>Nah I don't think he goes to usf, he lives aro...</td>\n",
       "      <td>61</td>\n",
       "    </tr>\n",
       "  </tbody>\n",
       "</table>\n",
       "</div>"
      ],
      "text/plain": [
       "   category                                               text  num_characters\n",
       "0         0  Go until jurong point, crazy.. Available only ...             111\n",
       "1         0                      Ok lar... Joking wif u oni...              29\n",
       "2         1  Free entry in 2 a wkly comp to win FA Cup fina...             155\n",
       "3         0  U dun say so early hor... U c already then say...              49\n",
       "4         0  Nah I don't think he goes to usf, he lives aro...              61"
      ]
     },
     "execution_count": 24,
     "metadata": {},
     "output_type": "execute_result"
    }
   ],
   "source": [
    "df.head()"
   ]
  },
  {
   "cell_type": "code",
   "execution_count": 25,
   "id": "176b231f-0124-4904-94df-a6ce61b84120",
   "metadata": {},
   "outputs": [
    {
     "data": {
      "text/plain": [
       "0       [Go, until, jurong, point, ,, crazy, .., Avail...\n",
       "1                [Ok, lar, ..., Joking, wif, u, oni, ...]\n",
       "2       [Free, entry, in, 2, a, wkly, comp, to, win, F...\n",
       "3       [U, dun, say, so, early, hor, ..., U, c, alrea...\n",
       "4       [Nah, I, do, n't, think, he, goes, to, usf, ,,...\n",
       "                              ...                        \n",
       "5567    [This, is, the, 2nd, time, we, have, tried, 2,...\n",
       "5568    [Will, ÃÂÃÂÃÂÃÂÃÂÃÂÃÂÃÂÃÂÃÂ...\n",
       "5569    [Pity, ,, *, was, in, mood, for, that, ., So, ...\n",
       "5570    [The, guy, did, some, bitching, but, I, acted,...\n",
       "5571                  [Rofl, ., Its, true, to, its, name]\n",
       "Name: text, Length: 5169, dtype: object"
      ]
     },
     "execution_count": 25,
     "metadata": {},
     "output_type": "execute_result"
    }
   ],
   "source": [
    "#we will get the number of words\n",
    "df['text'].apply(lambda x:nltk.word_tokenize(x))"
   ]
  },
  {
   "cell_type": "code",
   "execution_count": 26,
   "id": "5df5e864-da40-456b-937a-de68bff0ac51",
   "metadata": {},
   "outputs": [],
   "source": [
    "df['num_words']=df['text'].apply(lambda x: len(nltk.word_tokenize(x)))"
   ]
  },
  {
   "cell_type": "code",
   "execution_count": 27,
   "id": "d9d4a7cc-dd73-40d4-98be-07ed73a42cb3",
   "metadata": {},
   "outputs": [
    {
     "data": {
      "text/html": [
       "<div>\n",
       "<style scoped>\n",
       "    .dataframe tbody tr th:only-of-type {\n",
       "        vertical-align: middle;\n",
       "    }\n",
       "\n",
       "    .dataframe tbody tr th {\n",
       "        vertical-align: top;\n",
       "    }\n",
       "\n",
       "    .dataframe thead th {\n",
       "        text-align: right;\n",
       "    }\n",
       "</style>\n",
       "<table border=\"1\" class=\"dataframe\">\n",
       "  <thead>\n",
       "    <tr style=\"text-align: right;\">\n",
       "      <th></th>\n",
       "      <th>category</th>\n",
       "      <th>text</th>\n",
       "      <th>num_characters</th>\n",
       "      <th>num_words</th>\n",
       "    </tr>\n",
       "  </thead>\n",
       "  <tbody>\n",
       "    <tr>\n",
       "      <th>0</th>\n",
       "      <td>0</td>\n",
       "      <td>Go until jurong point, crazy.. Available only ...</td>\n",
       "      <td>111</td>\n",
       "      <td>24</td>\n",
       "    </tr>\n",
       "    <tr>\n",
       "      <th>1</th>\n",
       "      <td>0</td>\n",
       "      <td>Ok lar... Joking wif u oni...</td>\n",
       "      <td>29</td>\n",
       "      <td>8</td>\n",
       "    </tr>\n",
       "    <tr>\n",
       "      <th>2</th>\n",
       "      <td>1</td>\n",
       "      <td>Free entry in 2 a wkly comp to win FA Cup fina...</td>\n",
       "      <td>155</td>\n",
       "      <td>37</td>\n",
       "    </tr>\n",
       "    <tr>\n",
       "      <th>3</th>\n",
       "      <td>0</td>\n",
       "      <td>U dun say so early hor... U c already then say...</td>\n",
       "      <td>49</td>\n",
       "      <td>13</td>\n",
       "    </tr>\n",
       "    <tr>\n",
       "      <th>4</th>\n",
       "      <td>0</td>\n",
       "      <td>Nah I don't think he goes to usf, he lives aro...</td>\n",
       "      <td>61</td>\n",
       "      <td>15</td>\n",
       "    </tr>\n",
       "  </tbody>\n",
       "</table>\n",
       "</div>"
      ],
      "text/plain": [
       "   category                                               text  \\\n",
       "0         0  Go until jurong point, crazy.. Available only ...   \n",
       "1         0                      Ok lar... Joking wif u oni...   \n",
       "2         1  Free entry in 2 a wkly comp to win FA Cup fina...   \n",
       "3         0  U dun say so early hor... U c already then say...   \n",
       "4         0  Nah I don't think he goes to usf, he lives aro...   \n",
       "\n",
       "   num_characters  num_words  \n",
       "0             111         24  \n",
       "1              29          8  \n",
       "2             155         37  \n",
       "3              49         13  \n",
       "4              61         15  "
      ]
     },
     "execution_count": 27,
     "metadata": {},
     "output_type": "execute_result"
    }
   ],
   "source": [
    "df.head()"
   ]
  },
  {
   "cell_type": "code",
   "execution_count": 28,
   "id": "d8e981e7-104e-487b-92bc-26143572935f",
   "metadata": {},
   "outputs": [
    {
     "data": {
      "text/plain": [
       "0       [Go until jurong point, crazy.., Available onl...\n",
       "1                        [Ok lar..., Joking wif u oni...]\n",
       "2       [Free entry in 2 a wkly comp to win FA Cup fin...\n",
       "3       [U dun say so early hor... U c already then sa...\n",
       "4       [Nah I don't think he goes to usf, he lives ar...\n",
       "                              ...                        \n",
       "5567    [This is the 2nd time we have tried 2 contact ...\n",
       "5568    [Will ÃÂÃÂÃÂÃÂÃÂÃÂÃÂÃÂÃÂÃÂ...\n",
       "5569    [Pity, * was in mood for that., So...any other...\n",
       "5570    [The guy did some bitching but I acted like i'...\n",
       "5571                        [Rofl., Its true to its name]\n",
       "Name: text, Length: 5169, dtype: object"
      ]
     },
     "execution_count": 28,
     "metadata": {},
     "output_type": "execute_result"
    }
   ],
   "source": [
    "df['text'].apply(lambda x: nltk.sent_tokenize(x))"
   ]
  },
  {
   "cell_type": "code",
   "execution_count": 29,
   "id": "4d05bd91-dc37-4636-8f24-46edd49b37f9",
   "metadata": {},
   "outputs": [],
   "source": [
    "df['num_sentences']=df['text'].apply(lambda x: len(nltk.sent_tokenize(x)))"
   ]
  },
  {
   "cell_type": "code",
   "execution_count": 30,
   "id": "9909f6f1-8a66-4d3f-9fe1-42c61eabbbb7",
   "metadata": {},
   "outputs": [
    {
     "data": {
      "text/html": [
       "<div>\n",
       "<style scoped>\n",
       "    .dataframe tbody tr th:only-of-type {\n",
       "        vertical-align: middle;\n",
       "    }\n",
       "\n",
       "    .dataframe tbody tr th {\n",
       "        vertical-align: top;\n",
       "    }\n",
       "\n",
       "    .dataframe thead th {\n",
       "        text-align: right;\n",
       "    }\n",
       "</style>\n",
       "<table border=\"1\" class=\"dataframe\">\n",
       "  <thead>\n",
       "    <tr style=\"text-align: right;\">\n",
       "      <th></th>\n",
       "      <th>category</th>\n",
       "      <th>text</th>\n",
       "      <th>num_characters</th>\n",
       "      <th>num_words</th>\n",
       "      <th>num_sentences</th>\n",
       "    </tr>\n",
       "  </thead>\n",
       "  <tbody>\n",
       "    <tr>\n",
       "      <th>0</th>\n",
       "      <td>0</td>\n",
       "      <td>Go until jurong point, crazy.. Available only ...</td>\n",
       "      <td>111</td>\n",
       "      <td>24</td>\n",
       "      <td>2</td>\n",
       "    </tr>\n",
       "    <tr>\n",
       "      <th>1</th>\n",
       "      <td>0</td>\n",
       "      <td>Ok lar... Joking wif u oni...</td>\n",
       "      <td>29</td>\n",
       "      <td>8</td>\n",
       "      <td>2</td>\n",
       "    </tr>\n",
       "    <tr>\n",
       "      <th>2</th>\n",
       "      <td>1</td>\n",
       "      <td>Free entry in 2 a wkly comp to win FA Cup fina...</td>\n",
       "      <td>155</td>\n",
       "      <td>37</td>\n",
       "      <td>2</td>\n",
       "    </tr>\n",
       "    <tr>\n",
       "      <th>3</th>\n",
       "      <td>0</td>\n",
       "      <td>U dun say so early hor... U c already then say...</td>\n",
       "      <td>49</td>\n",
       "      <td>13</td>\n",
       "      <td>1</td>\n",
       "    </tr>\n",
       "    <tr>\n",
       "      <th>4</th>\n",
       "      <td>0</td>\n",
       "      <td>Nah I don't think he goes to usf, he lives aro...</td>\n",
       "      <td>61</td>\n",
       "      <td>15</td>\n",
       "      <td>1</td>\n",
       "    </tr>\n",
       "  </tbody>\n",
       "</table>\n",
       "</div>"
      ],
      "text/plain": [
       "   category                                               text  \\\n",
       "0         0  Go until jurong point, crazy.. Available only ...   \n",
       "1         0                      Ok lar... Joking wif u oni...   \n",
       "2         1  Free entry in 2 a wkly comp to win FA Cup fina...   \n",
       "3         0  U dun say so early hor... U c already then say...   \n",
       "4         0  Nah I don't think he goes to usf, he lives aro...   \n",
       "\n",
       "   num_characters  num_words  num_sentences  \n",
       "0             111         24              2  \n",
       "1              29          8              2  \n",
       "2             155         37              2  \n",
       "3              49         13              1  \n",
       "4              61         15              1  "
      ]
     },
     "execution_count": 30,
     "metadata": {},
     "output_type": "execute_result"
    }
   ],
   "source": [
    "df.head()"
   ]
  },
  {
   "cell_type": "code",
   "execution_count": 31,
   "id": "39846b61-f0a6-42e0-8d94-ba5d99041c4a",
   "metadata": {},
   "outputs": [
    {
     "data": {
      "text/html": [
       "<div>\n",
       "<style scoped>\n",
       "    .dataframe tbody tr th:only-of-type {\n",
       "        vertical-align: middle;\n",
       "    }\n",
       "\n",
       "    .dataframe tbody tr th {\n",
       "        vertical-align: top;\n",
       "    }\n",
       "\n",
       "    .dataframe thead th {\n",
       "        text-align: right;\n",
       "    }\n",
       "</style>\n",
       "<table border=\"1\" class=\"dataframe\">\n",
       "  <thead>\n",
       "    <tr style=\"text-align: right;\">\n",
       "      <th></th>\n",
       "      <th>num_characters</th>\n",
       "      <th>num_words</th>\n",
       "      <th>num_sentences</th>\n",
       "    </tr>\n",
       "  </thead>\n",
       "  <tbody>\n",
       "    <tr>\n",
       "      <th>count</th>\n",
       "      <td>5169.000000</td>\n",
       "      <td>5169.000000</td>\n",
       "      <td>5169.000000</td>\n",
       "    </tr>\n",
       "    <tr>\n",
       "      <th>mean</th>\n",
       "      <td>1790.388276</td>\n",
       "      <td>18.456761</td>\n",
       "      <td>1.966531</td>\n",
       "    </tr>\n",
       "    <tr>\n",
       "      <th>std</th>\n",
       "      <td>6615.201453</td>\n",
       "      <td>13.325633</td>\n",
       "      <td>1.449833</td>\n",
       "    </tr>\n",
       "    <tr>\n",
       "      <th>min</th>\n",
       "      <td>2.000000</td>\n",
       "      <td>1.000000</td>\n",
       "      <td>1.000000</td>\n",
       "    </tr>\n",
       "    <tr>\n",
       "      <th>25%</th>\n",
       "      <td>37.000000</td>\n",
       "      <td>9.000000</td>\n",
       "      <td>1.000000</td>\n",
       "    </tr>\n",
       "    <tr>\n",
       "      <th>50%</th>\n",
       "      <td>63.000000</td>\n",
       "      <td>15.000000</td>\n",
       "      <td>1.000000</td>\n",
       "    </tr>\n",
       "    <tr>\n",
       "      <th>75%</th>\n",
       "      <td>132.000000</td>\n",
       "      <td>26.000000</td>\n",
       "      <td>2.000000</td>\n",
       "    </tr>\n",
       "    <tr>\n",
       "      <th>max</th>\n",
       "      <td>98436.000000</td>\n",
       "      <td>220.000000</td>\n",
       "      <td>38.000000</td>\n",
       "    </tr>\n",
       "  </tbody>\n",
       "</table>\n",
       "</div>"
      ],
      "text/plain": [
       "       num_characters    num_words  num_sentences\n",
       "count     5169.000000  5169.000000    5169.000000\n",
       "mean      1790.388276    18.456761       1.966531\n",
       "std       6615.201453    13.325633       1.449833\n",
       "min          2.000000     1.000000       1.000000\n",
       "25%         37.000000     9.000000       1.000000\n",
       "50%         63.000000    15.000000       1.000000\n",
       "75%        132.000000    26.000000       2.000000\n",
       "max      98436.000000   220.000000      38.000000"
      ]
     },
     "execution_count": 31,
     "metadata": {},
     "output_type": "execute_result"
    }
   ],
   "source": [
    "df[['num_characters','num_words','num_sentences']].describe()"
   ]
  },
  {
   "cell_type": "markdown",
   "id": "286d697f-6b1b-4a0a-a6a9-5359aa0749c9",
   "metadata": {},
   "source": [
    "Count for ham messages"
   ]
  },
  {
   "cell_type": "code",
   "execution_count": 32,
   "id": "00fe9f54-74fc-46ff-9fb0-40f0832b42a2",
   "metadata": {},
   "outputs": [
    {
     "data": {
      "text/html": [
       "<div>\n",
       "<style scoped>\n",
       "    .dataframe tbody tr th:only-of-type {\n",
       "        vertical-align: middle;\n",
       "    }\n",
       "\n",
       "    .dataframe tbody tr th {\n",
       "        vertical-align: top;\n",
       "    }\n",
       "\n",
       "    .dataframe thead th {\n",
       "        text-align: right;\n",
       "    }\n",
       "</style>\n",
       "<table border=\"1\" class=\"dataframe\">\n",
       "  <thead>\n",
       "    <tr style=\"text-align: right;\">\n",
       "      <th></th>\n",
       "      <th>num_characters</th>\n",
       "      <th>num_words</th>\n",
       "      <th>num_sentences</th>\n",
       "    </tr>\n",
       "  </thead>\n",
       "  <tbody>\n",
       "    <tr>\n",
       "      <th>count</th>\n",
       "      <td>4516.000000</td>\n",
       "      <td>4516.000000</td>\n",
       "      <td>4516.000000</td>\n",
       "    </tr>\n",
       "    <tr>\n",
       "      <th>mean</th>\n",
       "      <td>1026.317759</td>\n",
       "      <td>17.123782</td>\n",
       "      <td>1.820195</td>\n",
       "    </tr>\n",
       "    <tr>\n",
       "      <th>std</th>\n",
       "      <td>5313.344093</td>\n",
       "      <td>13.493970</td>\n",
       "      <td>1.383657</td>\n",
       "    </tr>\n",
       "    <tr>\n",
       "      <th>min</th>\n",
       "      <td>2.000000</td>\n",
       "      <td>1.000000</td>\n",
       "      <td>1.000000</td>\n",
       "    </tr>\n",
       "    <tr>\n",
       "      <th>25%</th>\n",
       "      <td>34.000000</td>\n",
       "      <td>8.000000</td>\n",
       "      <td>1.000000</td>\n",
       "    </tr>\n",
       "    <tr>\n",
       "      <th>50%</th>\n",
       "      <td>54.000000</td>\n",
       "      <td>13.000000</td>\n",
       "      <td>1.000000</td>\n",
       "    </tr>\n",
       "    <tr>\n",
       "      <th>75%</th>\n",
       "      <td>101.000000</td>\n",
       "      <td>22.000000</td>\n",
       "      <td>2.000000</td>\n",
       "    </tr>\n",
       "    <tr>\n",
       "      <th>max</th>\n",
       "      <td>98436.000000</td>\n",
       "      <td>220.000000</td>\n",
       "      <td>38.000000</td>\n",
       "    </tr>\n",
       "  </tbody>\n",
       "</table>\n",
       "</div>"
      ],
      "text/plain": [
       "       num_characters    num_words  num_sentences\n",
       "count     4516.000000  4516.000000    4516.000000\n",
       "mean      1026.317759    17.123782       1.820195\n",
       "std       5313.344093    13.493970       1.383657\n",
       "min          2.000000     1.000000       1.000000\n",
       "25%         34.000000     8.000000       1.000000\n",
       "50%         54.000000    13.000000       1.000000\n",
       "75%        101.000000    22.000000       2.000000\n",
       "max      98436.000000   220.000000      38.000000"
      ]
     },
     "execution_count": 32,
     "metadata": {},
     "output_type": "execute_result"
    }
   ],
   "source": [
    "df[df['category']==0][['num_characters','num_words','num_sentences']].describe()"
   ]
  },
  {
   "cell_type": "markdown",
   "id": "b6eee523-9f4e-456d-8e3c-9d53af7fed6e",
   "metadata": {},
   "source": [
    "Count for spam messages"
   ]
  },
  {
   "cell_type": "code",
   "execution_count": 33,
   "id": "c5eafec3-0e75-43a5-b6c7-be9a38ea5e5b",
   "metadata": {},
   "outputs": [
    {
     "data": {
      "text/html": [
       "<div>\n",
       "<style scoped>\n",
       "    .dataframe tbody tr th:only-of-type {\n",
       "        vertical-align: middle;\n",
       "    }\n",
       "\n",
       "    .dataframe tbody tr th {\n",
       "        vertical-align: top;\n",
       "    }\n",
       "\n",
       "    .dataframe thead th {\n",
       "        text-align: right;\n",
       "    }\n",
       "</style>\n",
       "<table border=\"1\" class=\"dataframe\">\n",
       "  <thead>\n",
       "    <tr style=\"text-align: right;\">\n",
       "      <th></th>\n",
       "      <th>num_characters</th>\n",
       "      <th>num_words</th>\n",
       "      <th>num_sentences</th>\n",
       "    </tr>\n",
       "  </thead>\n",
       "  <tbody>\n",
       "    <tr>\n",
       "      <th>count</th>\n",
       "      <td>653.000000</td>\n",
       "      <td>653.000000</td>\n",
       "      <td>653.000000</td>\n",
       "    </tr>\n",
       "    <tr>\n",
       "      <th>mean</th>\n",
       "      <td>7074.526799</td>\n",
       "      <td>27.675345</td>\n",
       "      <td>2.978560</td>\n",
       "    </tr>\n",
       "    <tr>\n",
       "      <th>std</th>\n",
       "      <td>10925.071763</td>\n",
       "      <td>7.011513</td>\n",
       "      <td>1.493185</td>\n",
       "    </tr>\n",
       "    <tr>\n",
       "      <th>min</th>\n",
       "      <td>13.000000</td>\n",
       "      <td>2.000000</td>\n",
       "      <td>1.000000</td>\n",
       "    </tr>\n",
       "    <tr>\n",
       "      <th>25%</th>\n",
       "      <td>137.000000</td>\n",
       "      <td>25.000000</td>\n",
       "      <td>2.000000</td>\n",
       "    </tr>\n",
       "    <tr>\n",
       "      <th>50%</th>\n",
       "      <td>156.000000</td>\n",
       "      <td>29.000000</td>\n",
       "      <td>3.000000</td>\n",
       "    </tr>\n",
       "    <tr>\n",
       "      <th>75%</th>\n",
       "      <td>16526.000000</td>\n",
       "      <td>32.000000</td>\n",
       "      <td>4.000000</td>\n",
       "    </tr>\n",
       "    <tr>\n",
       "      <th>max</th>\n",
       "      <td>73850.000000</td>\n",
       "      <td>46.000000</td>\n",
       "      <td>9.000000</td>\n",
       "    </tr>\n",
       "  </tbody>\n",
       "</table>\n",
       "</div>"
      ],
      "text/plain": [
       "       num_characters   num_words  num_sentences\n",
       "count      653.000000  653.000000     653.000000\n",
       "mean      7074.526799   27.675345       2.978560\n",
       "std      10925.071763    7.011513       1.493185\n",
       "min         13.000000    2.000000       1.000000\n",
       "25%        137.000000   25.000000       2.000000\n",
       "50%        156.000000   29.000000       3.000000\n",
       "75%      16526.000000   32.000000       4.000000\n",
       "max      73850.000000   46.000000       9.000000"
      ]
     },
     "execution_count": 33,
     "metadata": {},
     "output_type": "execute_result"
    }
   ],
   "source": [
    "df[df['category']==1][['num_characters','num_words','num_sentences']].describe()"
   ]
  },
  {
   "cell_type": "code",
   "execution_count": 34,
   "id": "7cc305ae-d19c-44ca-95c8-faa71e23ebab",
   "metadata": {},
   "outputs": [],
   "source": [
    "#lets plot a histogram\n",
    "import seaborn as sns\n"
   ]
  },
  {
   "cell_type": "code",
   "execution_count": 35,
   "id": "372c177a-8f7b-4da3-8d6a-a3ec0b6d1392",
   "metadata": {},
   "outputs": [
    {
     "name": "stderr",
     "output_type": "stream",
     "text": [
      "/opt/anaconda3/lib/python3.11/site-packages/seaborn/_oldcore.py:1119: FutureWarning: use_inf_as_na option is deprecated and will be removed in a future version. Convert inf values to NaN before operating instead.\n",
      "  with pd.option_context('mode.use_inf_as_na', True):\n",
      "/opt/anaconda3/lib/python3.11/site-packages/seaborn/_oldcore.py:1119: FutureWarning: use_inf_as_na option is deprecated and will be removed in a future version. Convert inf values to NaN before operating instead.\n",
      "  with pd.option_context('mode.use_inf_as_na', True):\n"
     ]
    },
    {
     "data": {
      "text/plain": [
       "<Axes: xlabel='num_characters', ylabel='Count'>"
      ]
     },
     "execution_count": 35,
     "metadata": {},
     "output_type": "execute_result"
    },
    {
     "data": {
      "image/png": "[encoded data removed]",
      "text/plain": [
       "<Figure size 640x480 with 1 Axes>"
      ]
     },
     "metadata": {},
     "output_type": "display_data"
    }
   ],
   "source": [
    "sns.histplot(df[df['category']==0]['num_characters'])\n",
    "sns.histplot(df[df['category']==1]['num_characters'],color='red')"
   ]
  },
  {
   "cell_type": "markdown",
   "id": "59a5df32-9033-438c-8ca0-226e39dc811a",
   "metadata": {},
   "source": [
    "Most of the spam messages are constructed using a greater number of characters on an average"
   ]
  },
  {
   "cell_type": "code",
   "execution_count": 36,
   "id": "ead8ccbb-a409-4108-816f-e7c98a0c985a",
   "metadata": {},
   "outputs": [
    {
     "name": "stderr",
     "output_type": "stream",
     "text": [
      "/opt/anaconda3/lib/python3.11/site-packages/seaborn/_oldcore.py:1119: FutureWarning: use_inf_as_na option is deprecated and will be removed in a future version. Convert inf values to NaN before operating instead.\n",
      "  with pd.option_context('mode.use_inf_as_na', True):\n",
      "/opt/anaconda3/lib/python3.11/site-packages/seaborn/_oldcore.py:1119: FutureWarning: use_inf_as_na option is deprecated and will be removed in a future version. Convert inf values to NaN before operating instead.\n",
      "  with pd.option_context('mode.use_inf_as_na', True):\n"
     ]
    },
    {
     "data": {
      "text/plain": [
       "<Axes: xlabel='num_words', ylabel='Count'>"
      ]
     },
     "execution_count": 36,
     "metadata": {},
     "output_type": "execute_result"
    },
    {
     "data": {
      "image/png": "[encoded data removed]",
      "text/plain": [
       "<Figure size 640x480 with 1 Axes>"
      ]
     },
     "metadata": {},
     "output_type": "display_data"
    }
   ],
   "source": [
    "sns.histplot(df[df['category']==0]['num_words'])\n",
    "sns.histplot(df[df['category']==1]['num_words'],color='red')"
   ]
  },
  {
   "cell_type": "markdown",
   "id": "f7dbc6ce-600c-471a-853b-5fe67f22df12",
   "metadata": {},
   "source": [
    "A similar observation is seen for number of words as well"
   ]
  },
  {
   "cell_type": "code",
   "execution_count": 37,
   "id": "aa5ef78c-30f8-4070-a3c8-d7ce32addba9",
   "metadata": {},
   "outputs": [
    {
     "name": "stderr",
     "output_type": "stream",
     "text": [
      "/opt/anaconda3/lib/python3.11/site-packages/seaborn/_oldcore.py:1119: FutureWarning: use_inf_as_na option is deprecated and will be removed in a future version. Convert inf values to NaN before operating instead.\n",
      "  with pd.option_context('mode.use_inf_as_na', True):\n",
      "/opt/anaconda3/lib/python3.11/site-packages/seaborn/_oldcore.py:1119: FutureWarning: use_inf_as_na option is deprecated and will be removed in a future version. Convert inf values to NaN before operating instead.\n",
      "  with pd.option_context('mode.use_inf_as_na', True):\n",
      "/opt/anaconda3/lib/python3.11/site-packages/seaborn/_oldcore.py:1119: FutureWarning: use_inf_as_na option is deprecated and will be removed in a future version. Convert inf values to NaN before operating instead.\n",
      "  with pd.option_context('mode.use_inf_as_na', True):\n"
     ]
    },
    {
     "data": {
      "text/plain": [
       "<seaborn.axisgrid.PairGrid at 0x31556c450>"
      ]
     },
     "execution_count": 37,
     "metadata": {},
     "output_type": "execute_result"
    },
    {
     "data": {
      "image/png": "[encoded data removed]",
      "text/plain": [
       "<Figure size 822.736x750 with 12 Axes>"
      ]
     },
     "metadata": {},
     "output_type": "display_data"
    }
   ],
   "source": [
    "#lets plot the pairwise bivariate distributions \n",
    "sns.pairplot(df,hue='category')"
   ]
  },
  {
   "cell_type": "markdown",
   "id": "c496c774-10c1-4854-a64e-9d24a57fba0c",
   "metadata": {},
   "source": [
    "The main oberservation is the presence of outliers in the dataset"
   ]
  },
  {
   "cell_type": "markdown",
   "id": "f4b0ec12-10fd-453e-a886-fac6c63499ee",
   "metadata": {},
   "source": [
    "### DATA PREPROCESSING\n",
    "In this case it is , text preprocessing and it would be carried out in the following steps\n",
    "1. Convert the characters into lower case\n",
    "2. Tokenization\n",
    "3. Removing Special Characters\n",
    "4. Removing stop-words and punctuations\n",
    "5. Stemming - convert words of similar type into one\n",
    "\n",
    "   "
   ]
  },
  {
   "cell_type": "code",
   "execution_count": 38,
   "id": "de88c583-58e0-4d76-9c56-1738fc4d59b8",
   "metadata": {},
   "outputs": [
    {
     "name": "stderr",
     "output_type": "stream",
     "text": [
      "[nltk_data] Downloading package stopwords to\n",
      "[nltk_data]     /Users/anushkaghosh/nltk_data...\n",
      "[nltk_data]   Package stopwords is already up-to-date!\n"
     ]
    },
    {
     "data": {
      "text/plain": [
       "True"
      ]
     },
     "execution_count": 38,
     "metadata": {},
     "output_type": "execute_result"
    }
   ],
   "source": [
    "import nltk\n",
    "nltk.download('stopwords')"
   ]
  },
  {
   "cell_type": "code",
   "execution_count": 39,
   "id": "b8e5637a-92c8-4b83-a773-73521a1cc8a9",
   "metadata": {},
   "outputs": [
    {
     "data": {
      "text/plain": [
       "['i',\n",
       " 'me',\n",
       " 'my',\n",
       " 'myself',\n",
       " 'we',\n",
       " 'our',\n",
       " 'ours',\n",
       " 'ourselves',\n",
       " 'you',\n",
       " \"you're\",\n",
       " \"you've\",\n",
       " \"you'll\",\n",
       " \"you'd\",\n",
       " 'your',\n",
       " 'yours',\n",
       " 'yourself',\n",
       " 'yourselves',\n",
       " 'he',\n",
       " 'him',\n",
       " 'his',\n",
       " 'himself',\n",
       " 'she',\n",
       " \"she's\",\n",
       " 'her',\n",
       " 'hers',\n",
       " 'herself',\n",
       " 'it',\n",
       " \"it's\",\n",
       " 'its',\n",
       " 'itself',\n",
       " 'they',\n",
       " 'them',\n",
       " 'their',\n",
       " 'theirs',\n",
       " 'themselves',\n",
       " 'what',\n",
       " 'which',\n",
       " 'who',\n",
       " 'whom',\n",
       " 'this',\n",
       " 'that',\n",
       " \"that'll\",\n",
       " 'these',\n",
       " 'those',\n",
       " 'am',\n",
       " 'is',\n",
       " 'are',\n",
       " 'was',\n",
       " 'were',\n",
       " 'be',\n",
       " 'been',\n",
       " 'being',\n",
       " 'have',\n",
       " 'has',\n",
       " 'had',\n",
       " 'having',\n",
       " 'do',\n",
       " 'does',\n",
       " 'did',\n",
       " 'doing',\n",
       " 'a',\n",
       " 'an',\n",
       " 'the',\n",
       " 'and',\n",
       " 'but',\n",
       " 'if',\n",
       " 'or',\n",
       " 'because',\n",
       " 'as',\n",
       " 'until',\n",
       " 'while',\n",
       " 'of',\n",
       " 'at',\n",
       " 'by',\n",
       " 'for',\n",
       " 'with',\n",
       " 'about',\n",
       " 'against',\n",
       " 'between',\n",
       " 'into',\n",
       " 'through',\n",
       " 'during',\n",
       " 'before',\n",
       " 'after',\n",
       " 'above',\n",
       " 'below',\n",
       " 'to',\n",
       " 'from',\n",
       " 'up',\n",
       " 'down',\n",
       " 'in',\n",
       " 'out',\n",
       " 'on',\n",
       " 'off',\n",
       " 'over',\n",
       " 'under',\n",
       " 'again',\n",
       " 'further',\n",
       " 'then',\n",
       " 'once',\n",
       " 'here',\n",
       " 'there',\n",
       " 'when',\n",
       " 'where',\n",
       " 'why',\n",
       " 'how',\n",
       " 'all',\n",
       " 'any',\n",
       " 'both',\n",
       " 'each',\n",
       " 'few',\n",
       " 'more',\n",
       " 'most',\n",
       " 'other',\n",
       " 'some',\n",
       " 'such',\n",
       " 'no',\n",
       " 'nor',\n",
       " 'not',\n",
       " 'only',\n",
       " 'own',\n",
       " 'same',\n",
       " 'so',\n",
       " 'than',\n",
       " 'too',\n",
       " 'very',\n",
       " 's',\n",
       " 't',\n",
       " 'can',\n",
       " 'will',\n",
       " 'just',\n",
       " 'don',\n",
       " \"don't\",\n",
       " 'should',\n",
       " \"should've\",\n",
       " 'now',\n",
       " 'd',\n",
       " 'll',\n",
       " 'm',\n",
       " 'o',\n",
       " 're',\n",
       " 've',\n",
       " 'y',\n",
       " 'ain',\n",
       " 'aren',\n",
       " \"aren't\",\n",
       " 'couldn',\n",
       " \"couldn't\",\n",
       " 'didn',\n",
       " \"didn't\",\n",
       " 'doesn',\n",
       " \"doesn't\",\n",
       " 'hadn',\n",
       " \"hadn't\",\n",
       " 'hasn',\n",
       " \"hasn't\",\n",
       " 'haven',\n",
       " \"haven't\",\n",
       " 'isn',\n",
       " \"isn't\",\n",
       " 'ma',\n",
       " 'mightn',\n",
       " \"mightn't\",\n",
       " 'mustn',\n",
       " \"mustn't\",\n",
       " 'needn',\n",
       " \"needn't\",\n",
       " 'shan',\n",
       " \"shan't\",\n",
       " 'shouldn',\n",
       " \"shouldn't\",\n",
       " 'wasn',\n",
       " \"wasn't\",\n",
       " 'weren',\n",
       " \"weren't\",\n",
       " 'won',\n",
       " \"won't\",\n",
       " 'wouldn',\n",
       " \"wouldn't\"]"
      ]
     },
     "execution_count": 39,
     "metadata": {},
     "output_type": "execute_result"
    }
   ],
   "source": [
    "\n",
    "from nltk.corpus import stopwords\n",
    "stopwords.words('english')"
   ]
  },
  {
   "cell_type": "markdown",
   "id": "6813fe3d-bf83-4efc-a691-90671e73e133",
   "metadata": {},
   "source": [
    "Stopwords are basically all those words that dont have any contribution to the overall meaning of the sentence   "
   ]
  },
  {
   "cell_type": "code",
   "execution_count": 40,
   "id": "74108bcc-5c9a-476c-9bbe-8899949772d6",
   "metadata": {},
   "outputs": [
    {
     "data": {
      "text/plain": [
       "'!\"#$%&\\'()*+,-./:;<=>?@[\\\\]^_`{|}~'"
      ]
     },
     "execution_count": 40,
     "metadata": {},
     "output_type": "execute_result"
    }
   ],
   "source": [
    "import string\n",
    "string.punctuation"
   ]
  },
  {
   "cell_type": "code",
   "execution_count": 41,
   "id": "536c820d-e066-41da-9942-21f639bf9bbb",
   "metadata": {},
   "outputs": [],
   "source": [
    "from nltk.stem.porter import PorterStemmer\n",
    "ps=PorterStemmer()"
   ]
  },
  {
   "cell_type": "code",
   "execution_count": 42,
   "id": "a3c03ad5-7fd2-4861-8210-3fa2d51eb896",
   "metadata": {},
   "outputs": [],
   "source": [
    "#creating a function to do all the steps sequentially\n",
    "def transform_text(text):\n",
    "    text=text.lower()\n",
    "    text=nltk.word_tokenize(text)\n",
    "    y=[]\n",
    "    for i in text:\n",
    "        if i.isalnum():\n",
    "            y.append(i)\n",
    "    text=y[:] #we have to do cloning\n",
    "    y.clear()\n",
    "\n",
    "    for i in text:\n",
    "        if i not in stopwords.words('english') and i not in string.punctuation:\n",
    "            y.append(i) \n",
    "    text=y[:]\n",
    "    y.clear()\n",
    "    for i in text:\n",
    "       y.append(ps.stem(i))\n",
    "\n",
    "    return \" \".join(y) #to return it as a string"
   ]
  },
  {
   "cell_type": "code",
   "execution_count": 43,
   "id": "04d2d03e-8053-49bb-b31e-8cf96d21ca65",
   "metadata": {},
   "outputs": [
    {
     "data": {
      "text/plain": [
       "'love youtub lectur machin learn'"
      ]
     },
     "execution_count": 43,
     "metadata": {},
     "output_type": "execute_result"
    }
   ],
   "source": [
    "#testing on dummy data\n",
    "transform_text('I loved the youtube lecture on machine learning,how about you ?')\n",
    "               "
   ]
  },
  {
   "cell_type": "code",
   "execution_count": 44,
   "id": "2df5c8fd-7352-4bff-8a5f-30f1db27f57f",
   "metadata": {},
   "outputs": [
    {
     "data": {
      "text/plain": [
       "\"I'm gonna be home soon and i don't want to talk about this stuff anymore tonight, k? I've cried enough today.\""
      ]
     },
     "execution_count": 44,
     "metadata": {},
     "output_type": "execute_result"
    }
   ],
   "source": [
    "#testing on one of the actual data records\n",
    "df['text'][10]"
   ]
  },
  {
   "cell_type": "code",
   "execution_count": 45,
   "id": "0508e014-f93a-4243-bb6a-1a695f25d49b",
   "metadata": {},
   "outputs": [
    {
     "data": {
      "text/plain": [
       "'gon na home soon want talk stuff anymor tonight k cri enough today'"
      ]
     },
     "execution_count": 45,
     "metadata": {},
     "output_type": "execute_result"
    }
   ],
   "source": [
    "transform_text(df['text'][10])"
   ]
  },
  {
   "cell_type": "code",
   "execution_count": 46,
   "id": "3960d221-2ee8-4d4b-83e5-715195b0b607",
   "metadata": {},
   "outputs": [],
   "source": [
    "#applying the transformation to the dataset\n",
    "df['transform_text']=df['text'].apply(transform_text)"
   ]
  },
  {
   "cell_type": "markdown",
   "id": "1d71ffd4-117f-4696-b26e-f7f8f8bb6a61",
   "metadata": {},
   "source": [
    "#### We want to see which words are used the most in both spam and ham messages"
   ]
  },
  {
   "cell_type": "code",
   "execution_count": 47,
   "id": "5e4b0728-2245-4fc0-8c4f-9e7573b17253",
   "metadata": {},
   "outputs": [],
   "source": [
    "spam_corpus=[]\n",
    "for msg in df[df['category']==1]['transform_text'].tolist():\n",
    "    for word in msg.split():\n",
    "        spam_corpus.append(word)\n",
    "        "
   ]
  },
  {
   "cell_type": "code",
   "execution_count": 48,
   "id": "4e7b9f05-05a0-4ca8-852b-9ed5788c5261",
   "metadata": {},
   "outputs": [
    {
     "data": {
      "text/plain": [
       "9936"
      ]
     },
     "execution_count": 48,
     "metadata": {},
     "output_type": "execute_result"
    }
   ],
   "source": [
    "len(spam_corpus)"
   ]
  },
  {
   "cell_type": "code",
   "execution_count": 49,
   "id": "3b0600df-a190-45b5-bb45-fe66a5154160",
   "metadata": {},
   "outputs": [
    {
     "data": {
      "text/plain": [
       "Counter({'call': 320,\n",
       "         'free': 191,\n",
       "         '2': 155,\n",
       "         'txt': 141,\n",
       "         'text': 122,\n",
       "         'u': 119,\n",
       "         'ur': 119,\n",
       "         'mobil': 114,\n",
       "         'stop': 104,\n",
       "         'repli': 103,\n",
       "         'claim': 98,\n",
       "         '4': 97,\n",
       "         'prize': 82,\n",
       "         'get': 74,\n",
       "         'new': 64,\n",
       "         'servic': 64,\n",
       "         'tone': 63,\n",
       "         'send': 60,\n",
       "         'urgent': 57,\n",
       "         'nokia': 57,\n",
       "         'contact': 56,\n",
       "         'award': 55,\n",
       "         'phone': 52,\n",
       "         'cash': 51,\n",
       "         'pleas': 51,\n",
       "         'week': 49,\n",
       "         'win': 48,\n",
       "         'c': 45,\n",
       "         'collect': 45,\n",
       "         'min': 45,\n",
       "         'custom': 42,\n",
       "         'messag': 42,\n",
       "         'guarante': 42,\n",
       "         'per': 41,\n",
       "         'chat': 38,\n",
       "         'tri': 37,\n",
       "         'msg': 35,\n",
       "         'draw': 35,\n",
       "         'number': 35,\n",
       "         'cs': 35,\n",
       "         'show': 33,\n",
       "         'today': 33,\n",
       "         'offer': 33,\n",
       "         'line': 33,\n",
       "         'go': 32,\n",
       "         'receiv': 31,\n",
       "         'want': 31,\n",
       "         'latest': 30,\n",
       "         'rington': 30,\n",
       "         'landlin': 30,\n",
       "         '150ppm': 29,\n",
       "         'video': 29,\n",
       "         '1': 28,\n",
       "         'voucher': 28,\n",
       "         'code': 27,\n",
       "         'holiday': 27,\n",
       "         'rate': 26,\n",
       "         'network': 26,\n",
       "         'select': 26,\n",
       "         '150p': 26,\n",
       "         'date': 26,\n",
       "         'box': 26,\n",
       "         'day': 26,\n",
       "         'everi': 26,\n",
       "         'appli': 24,\n",
       "         'r': 24,\n",
       "         'cost': 24,\n",
       "         'end': 24,\n",
       "         'po': 24,\n",
       "         'orang': 24,\n",
       "         'await': 24,\n",
       "         'camera': 23,\n",
       "         'chanc': 22,\n",
       "         'charg': 22,\n",
       "         'sm': 22,\n",
       "         'live': 22,\n",
       "         'poli': 22,\n",
       "         'attempt': 22,\n",
       "         'entri': 21,\n",
       "         'word': 21,\n",
       "         'valid': 21,\n",
       "         'find': 21,\n",
       "         '3': 20,\n",
       "         'back': 20,\n",
       "         'uk': 20,\n",
       "         'mob': 20,\n",
       "         '18': 20,\n",
       "         'game': 20,\n",
       "         'weekli': 20,\n",
       "         'pound': 19,\n",
       "         'know': 19,\n",
       "         '500': 19,\n",
       "         'club': 19,\n",
       "         '1st': 19,\n",
       "         '2nd': 19,\n",
       "         '8007': 19,\n",
       "         'pic': 19,\n",
       "         'credit': 18,\n",
       "         'http': 18,\n",
       "         'deliveri': 18,\n",
       "         'account': 18,\n",
       "         'join': 18,\n",
       "         '16': 18,\n",
       "         'sae': 18,\n",
       "         'time': 18,\n",
       "         'bonu': 17,\n",
       "         'wait': 17,\n",
       "         'expir': 17,\n",
       "         'order': 17,\n",
       "         '750': 17,\n",
       "         'unsubscrib': 17,\n",
       "         'wk': 17,\n",
       "         'next': 16,\n",
       "         'thank': 16,\n",
       "         '08000930705': 16,\n",
       "         'special': 16,\n",
       "         '12hr': 16,\n",
       "         'privat': 16,\n",
       "         'see': 16,\n",
       "         'take': 16,\n",
       "         'land': 16,\n",
       "         'dear': 16,\n",
       "         'gift': 16,\n",
       "         'camcord': 15,\n",
       "         'statement': 15,\n",
       "         'point': 15,\n",
       "         'identifi': 15,\n",
       "         'name': 15,\n",
       "         'music': 15,\n",
       "         'xma': 15,\n",
       "         'price': 15,\n",
       "         'enter': 15,\n",
       "         'hi': 15,\n",
       "         'auction': 15,\n",
       "         'final': 14,\n",
       "         'freemsg': 14,\n",
       "         'updat': 14,\n",
       "         'colour': 14,\n",
       "         '100': 14,\n",
       "         'play': 14,\n",
       "         'match': 14,\n",
       "         'top': 14,\n",
       "         'yr': 14,\n",
       "         'sexi': 14,\n",
       "         'content': 14,\n",
       "         '86688': 14,\n",
       "         'winner': 13,\n",
       "         'weekend': 13,\n",
       "         'friend': 13,\n",
       "         'someon': 13,\n",
       "         '10p': 13,\n",
       "         'hot': 13,\n",
       "         'doubl': 13,\n",
       "         'mobileupd8': 13,\n",
       "         '2003': 13,\n",
       "         '800': 13,\n",
       "         'tell': 13,\n",
       "         'like': 12,\n",
       "         'use': 12,\n",
       "         'ye': 12,\n",
       "         'last': 12,\n",
       "         'caller': 12,\n",
       "         'real': 12,\n",
       "         'dog': 12,\n",
       "         'start': 12,\n",
       "         'reveal': 12,\n",
       "         'congratul': 12,\n",
       "         'anytim': 12,\n",
       "         'minut': 12,\n",
       "         'fanci': 12,\n",
       "         '08000839402': 12,\n",
       "         'half': 12,\n",
       "         'help': 12,\n",
       "         'good': 12,\n",
       "         'enjoy': 12,\n",
       "         'info': 11,\n",
       "         'pobox': 11,\n",
       "         'nation': 11,\n",
       "         'eg': 11,\n",
       "         'complimentari': 11,\n",
       "         'oper': 11,\n",
       "         'ltd': 11,\n",
       "         'make': 11,\n",
       "         'think': 11,\n",
       "         'cd': 11,\n",
       "         'current': 11,\n",
       "         'rental': 11,\n",
       "         'import': 11,\n",
       "         'need': 11,\n",
       "         'wan': 11,\n",
       "         'xxx': 10,\n",
       "         'tomorrow': 10,\n",
       "         'follow': 10,\n",
       "         'player': 10,\n",
       "         'sent': 10,\n",
       "         'direct': 10,\n",
       "         'invit': 10,\n",
       "         '87066': 10,\n",
       "         'unlimit': 10,\n",
       "         'easi': 10,\n",
       "         'babe': 10,\n",
       "         'motorola': 10,\n",
       "         'love': 10,\n",
       "         'ipod': 10,\n",
       "         'shop': 10,\n",
       "         'one': 10,\n",
       "         'opt': 10,\n",
       "         'sex': 10,\n",
       "         'na': 10,\n",
       "         'b': 10,\n",
       "         'wkli': 9,\n",
       "         'question': 9,\n",
       "         'reward': 9,\n",
       "         'wap': 9,\n",
       "         'dont': 9,\n",
       "         'year': 9,\n",
       "         '0800': 9,\n",
       "         'quiz': 9,\n",
       "         'age': 9,\n",
       "         'look': 9,\n",
       "         'choos': 9,\n",
       "         '1000': 9,\n",
       "         '150': 9,\n",
       "         'ts': 9,\n",
       "         'subscrib': 9,\n",
       "         'chariti': 9,\n",
       "         'girl': 9,\n",
       "         'inform': 9,\n",
       "         'great': 9,\n",
       "         'comp': 8,\n",
       "         'fun': 8,\n",
       "         'valu': 8,\n",
       "         'miss': 8,\n",
       "         'news': 8,\n",
       "         '87077': 8,\n",
       "         'access': 8,\n",
       "         'x': 8,\n",
       "         'welcom': 8,\n",
       "         'term': 8,\n",
       "         'worth': 8,\n",
       "         'savamob': 8,\n",
       "         'area': 8,\n",
       "         '5': 8,\n",
       "         'mate': 8,\n",
       "         'either': 8,\n",
       "         'bid': 8,\n",
       "         'pl': 8,\n",
       "         'user': 8,\n",
       "         '08712460324': 8,\n",
       "         'lucki': 8,\n",
       "         'give': 8,\n",
       "         'part': 8,\n",
       "         'fantasi': 8,\n",
       "         'england': 7,\n",
       "         '10': 7,\n",
       "         'inc': 7,\n",
       "         'speak': 7,\n",
       "         '2004': 7,\n",
       "         'txting': 7,\n",
       "         'download': 7,\n",
       "         'even': 7,\n",
       "         'secret': 7,\n",
       "         'admir': 7,\n",
       "         'tnc': 7,\n",
       "         'horni': 7,\n",
       "         'sport': 7,\n",
       "         'maxim': 7,\n",
       "         'bluetooth': 7,\n",
       "         'ldn': 7,\n",
       "         'tenerif': 7,\n",
       "         'tc': 7,\n",
       "         'us': 7,\n",
       "         'custcar': 7,\n",
       "         'remov': 7,\n",
       "         '25p': 7,\n",
       "         'gr8': 7,\n",
       "         'fantast': 7,\n",
       "         'best': 7,\n",
       "         'night': 7,\n",
       "         'could': 7,\n",
       "         'summer': 7,\n",
       "         'store': 7,\n",
       "         'ntt': 7,\n",
       "         'log': 7,\n",
       "         'onto': 7,\n",
       "         'n': 7,\n",
       "         'plu': 7,\n",
       "         'bill': 7,\n",
       "         'im': 7,\n",
       "         'detail': 7,\n",
       "         'may': 6,\n",
       "         'std': 6,\n",
       "         'entitl': 6,\n",
       "         'link': 6,\n",
       "         'congrat': 6,\n",
       "         'etc': 6,\n",
       "         'repres': 6,\n",
       "         'flight': 6,\n",
       "         '08712300220': 6,\n",
       "         'quot': 6,\n",
       "         'standard': 6,\n",
       "         'sp': 6,\n",
       "         'handset': 6,\n",
       "         'answer': 6,\n",
       "         'loyalti': 6,\n",
       "         'cc': 6,\n",
       "         'discount': 6,\n",
       "         'first': 6,\n",
       "         'logo': 6,\n",
       "         '40gb': 6,\n",
       "         'member': 6,\n",
       "         'age16': 6,\n",
       "         'spree': 6,\n",
       "         'holder': 6,\n",
       "         'pc': 6,\n",
       "         'b4': 6,\n",
       "         'book': 6,\n",
       "         'extra': 6,\n",
       "         'zed': 6,\n",
       "         'care': 6,\n",
       "         'record': 6,\n",
       "         'asap': 6,\n",
       "         'gay': 6,\n",
       "         'guess': 6,\n",
       "         'digit': 6,\n",
       "         'an': 6,\n",
       "         'luck': 6,\n",
       "         'got': 6,\n",
       "         '0870': 6,\n",
       "         'arriv': 6,\n",
       "         'titl': 6,\n",
       "         'del': 6,\n",
       "         'pick': 6,\n",
       "         'hey': 5,\n",
       "         'still': 5,\n",
       "         'ok': 5,\n",
       "         'month': 5,\n",
       "         'click': 5,\n",
       "         'subscript': 5,\n",
       "         'pass': 5,\n",
       "         'come': 5,\n",
       "         'voda': 5,\n",
       "         'sunshin': 5,\n",
       "         'soni': 5,\n",
       "         'dvd': 5,\n",
       "         'locat': 5,\n",
       "         'bt': 5,\n",
       "         'must': 5,\n",
       "         'local': 5,\n",
       "         'luv': 5,\n",
       "         'frnd': 5,\n",
       "         '62468': 5,\n",
       "         'goto': 5,\n",
       "         'meet': 5,\n",
       "         'partner': 5,\n",
       "         'flirt': 5,\n",
       "         'singl': 5,\n",
       "         'themob': 5,\n",
       "         'keep': 5,\n",
       "         'rcvd': 5,\n",
       "         'sonyericsson': 5,\n",
       "         'eve': 5,\n",
       "         'pobox36504w45wq': 5,\n",
       "         'activ': 5,\n",
       "         'visit': 5,\n",
       "         'mp3': 5,\n",
       "         'sub': 5,\n",
       "         'ring': 5,\n",
       "         'announc': 5,\n",
       "         'guy': 5,\n",
       "         'vodafon': 5,\n",
       "         '80062': 5,\n",
       "         'immedi': 5,\n",
       "         'alert': 5,\n",
       "         'txtauction': 5,\n",
       "         'break': 5,\n",
       "         'no1': 5,\n",
       "         'talk': 5,\n",
       "         '08718720201': 5,\n",
       "         '6': 5,\n",
       "         'regist': 5,\n",
       "         'ask': 5,\n",
       "         'xchat': 5,\n",
       "         'o2': 5,\n",
       "         'surpris': 5,\n",
       "         'readi': 5,\n",
       "         '20p': 5,\n",
       "         '1327': 5,\n",
       "         'croydon': 5,\n",
       "         'cr9': 5,\n",
       "         '5wb': 5,\n",
       "         'reach': 5,\n",
       "         '86021': 5,\n",
       "         'eeri': 5,\n",
       "         'rpli': 5,\n",
       "         'comput': 5,\n",
       "         'fone': 5,\n",
       "         'flag': 5,\n",
       "         'spook': 5,\n",
       "         'tariff': 5,\n",
       "         'cancel': 5,\n",
       "         '3510i': 5,\n",
       "         '300': 5,\n",
       "         'hour': 4,\n",
       "         'v': 4,\n",
       "         'ac': 4,\n",
       "         'correct': 4,\n",
       "         '150pm': 4,\n",
       "         'recent': 4,\n",
       "         'app': 4,\n",
       "         'laid': 4,\n",
       "         'largest': 4,\n",
       "         'ec2a': 4,\n",
       "         'noth': 4,\n",
       "         'netcollex': 4,\n",
       "         'freephon': 4,\n",
       "         '2optout': 4,\n",
       "         'hmv': 4,\n",
       "         'upgrad': 4,\n",
       "         'card': 4,\n",
       "         '4u': 4,\n",
       "         'check': 4,\n",
       "         'decemb': 4,\n",
       "         'refer': 4,\n",
       "         'ad': 4,\n",
       "         'vari': 4,\n",
       "         'post': 4,\n",
       "         '5000': 4,\n",
       "         'cw25wx': 4,\n",
       "         'condit': 4,\n",
       "         '83355': 4,\n",
       "         'mono': 4,\n",
       "         '85023': 4,\n",
       "         'within': 4,\n",
       "         'hello': 4,\n",
       "         'forward': 4,\n",
       "         'polyphon': 4,\n",
       "         'pobox84': 4,\n",
       "         '36504': 4,\n",
       "         'm8': 4,\n",
       "         'ibiza': 4,\n",
       "         'ppm': 4,\n",
       "         'vip': 4,\n",
       "         'sale': 4,\n",
       "         'money': 4,\n",
       "         'away': 4,\n",
       "         'sk38xh': 4,\n",
       "         'contract': 4,\n",
       "         'place': 4,\n",
       "         'deliv': 4,\n",
       "         '08712405020': 4,\n",
       "         'cum': 4,\n",
       "         'xx': 4,\n",
       "         '08707509020': 4,\n",
       "         'linerent': 4,\n",
       "         'optout': 4,\n",
       "         '2nite': 4,\n",
       "         'hope': 4,\n",
       "         'hotel': 4,\n",
       "         '2day': 4,\n",
       "         'brand': 4,\n",
       "         '250': 4,\n",
       "         'london': 4,\n",
       "         'mobi': 4,\n",
       "         'action': 4,\n",
       "         'arcad': 4,\n",
       "         '08001950382': 4,\n",
       "         'would': 4,\n",
       "         'costa': 4,\n",
       "         'sol': 4,\n",
       "         '87239': 4,\n",
       "         'inclus': 4,\n",
       "         'saturday': 4,\n",
       "         'ntwk': 4,\n",
       "         'hit': 4,\n",
       "         'crazi': 4,\n",
       "         'porn': 4,\n",
       "         'mth': 4,\n",
       "         'film': 4,\n",
       "         'santa': 4,\n",
       "         'cup': 3,\n",
       "         '12': 3,\n",
       "         '11': 3,\n",
       "         'co': 3,\n",
       "         'hl': 3,\n",
       "         'review': 3,\n",
       "         'trip': 3,\n",
       "         'hear': 3,\n",
       "         'k52': 3,\n",
       "         '786': 3,\n",
       "         'unredeem': 3,\n",
       "         'tonight': 3,\n",
       "         'tv': 3,\n",
       "         '89545': 3,\n",
       "         'star': 3,\n",
       "         '25': 3,\n",
       "         'recd': 3,\n",
       "         'penc': 3,\n",
       "         'chart': 3,\n",
       "         '0845': 3,\n",
       "         'newest': 3,\n",
       "         'm26': 3,\n",
       "         '3uz': 3,\n",
       "         '08002986906': 3,\n",
       "         'germani': 3,\n",
       "         'via': 3,\n",
       "         'valentin': 3,\n",
       "         '83600': 3,\n",
       "         '11mth': 3,\n",
       "         '87131': 3,\n",
       "         'heart': 3,\n",
       "         '3min': 3,\n",
       "         'close': 3,\n",
       "         'wc1n3xx': 3,\n",
       "         'loan': 3,\n",
       "         'notic': 3,\n",
       "         'ibhltd': 3,\n",
       "         'ldnw15h': 3,\n",
       "         'renew': 3,\n",
       "         'box95qu': 3,\n",
       "         'unsub': 3,\n",
       "         '08715705022': 3,\n",
       "         '542': 3,\n",
       "         'ladi': 3,\n",
       "         'kick': 3,\n",
       "         'euro2004': 3,\n",
       "         'daili': 3,\n",
       "         'postcod': 3,\n",
       "         '20': 3,\n",
       "         'work': 3,\n",
       "         'textoper': 3,\n",
       "         '50': 3,\n",
       "         'listen': 3,\n",
       "         '4t': 3,\n",
       "         'pari': 3,\n",
       "         'citi': 3,\n",
       "         'skilgm': 3,\n",
       "         'ever': 3,\n",
       "         'life': 3,\n",
       "         'w45wq': 3,\n",
       "         '3qxj9': 3,\n",
       "         '9ae': 3,\n",
       "         'alfi': 3,\n",
       "         'moon': 3,\n",
       "         'children': 3,\n",
       "         'song': 3,\n",
       "         '08701417012': 3,\n",
       "         'profit': 3,\n",
       "         'cust': 3,\n",
       "         'five': 3,\n",
       "         '434': 3,\n",
       "         'sk3': 3,\n",
       "         '8wp': 3,\n",
       "         'address': 3,\n",
       "         'male': 3,\n",
       "         'cheap': 3,\n",
       "         'compani': 3,\n",
       "         '3g': 3,\n",
       "         'videophon': 3,\n",
       "         'videochat': 3,\n",
       "         'wid': 3,\n",
       "         'java': 3,\n",
       "         'dload': 3,\n",
       "         'nolin': 3,\n",
       "         'rentl': 3,\n",
       "         'f': 3,\n",
       "         'peopl': 3,\n",
       "         'cant': 3,\n",
       "         'sipix': 3,\n",
       "         'receipt': 3,\n",
       "         'bore': 3,\n",
       "         'yesterday': 3,\n",
       "         'mani': 3,\n",
       "         'let': 3,\n",
       "         'futur': 3,\n",
       "         'jordan': 3,\n",
       "         '84128': 3,\n",
       "         'set': 3,\n",
       "         'jamster': 3,\n",
       "         'origin': 3,\n",
       "         '3gbp': 3,\n",
       "         'photo': 3,\n",
       "         'arsen': 3,\n",
       "         'pod': 3,\n",
       "         'alon': 3,\n",
       "         '09066362231': 3,\n",
       "         '07xxxxxxxxx': 3,\n",
       "         'high': 3,\n",
       "         'shortli': 3,\n",
       "         '7250i': 3,\n",
       "         'stay': 3,\n",
       "         '82242': 3,\n",
       "         'sorri': 3,\n",
       "         'connect': 3,\n",
       "         'ticket': 3,\n",
       "         '18yr': 3,\n",
       "         'abta': 3,\n",
       "         'right': 3,\n",
       "         'person': 3,\n",
       "         'well': 3,\n",
       "         '09050090044': 3,\n",
       "         'toclaim': 3,\n",
       "         'pobox334': 3,\n",
       "         'stockport': 3,\n",
       "         'max10min': 3,\n",
       "         'provid': 3,\n",
       "         'freefon': 3,\n",
       "         'box97n7qp': 3,\n",
       "         'men': 3,\n",
       "         'offici': 3,\n",
       "         'ip4': 3,\n",
       "         '5we': 3,\n",
       "         'cross': 3,\n",
       "         'also': 3,\n",
       "         '88066': 3,\n",
       "         '80082': 3,\n",
       "         'halloween': 3,\n",
       "         'sky': 3,\n",
       "         'adult': 3,\n",
       "         '09066612661': 3,\n",
       "         'sept': 3,\n",
       "         '28': 3,\n",
       "         'king': 3,\n",
       "         'super': 3,\n",
       "         'littl': 3,\n",
       "         '50p': 3,\n",
       "         'deliveredtomorrow': 3,\n",
       "         'save': 3,\n",
       "         'callback': 3,\n",
       "         '200': 3,\n",
       "         '7': 3,\n",
       "         'nat': 3,\n",
       "         'goal': 3,\n",
       "         '30': 3,\n",
       "         'fa': 2,\n",
       "         'tkt': 2,\n",
       "         '87121': 2,\n",
       "         'darl': 2,\n",
       "         'chg': 2,\n",
       "         'rcv': 2,\n",
       "         'six': 2,\n",
       "         'team': 2,\n",
       "         'sptv': 2,\n",
       "         'cinema': 2,\n",
       "         '09061209465': 2,\n",
       "         'suprman': 2,\n",
       "         'matrix3': 2,\n",
       "         'starwars3': 2,\n",
       "         'advis': 2,\n",
       "         'simpli': 2,\n",
       "         'password': 2,\n",
       "         'verifi': 2,\n",
       "         'gent': 2,\n",
       "         '45239': 2,\n",
       "         '350': 2,\n",
       "         'q': 2,\n",
       "         'countri': 2,\n",
       "         'ansr': 2,\n",
       "         'tyron': 2,\n",
       "         '69888': 2,\n",
       "         'hardcor': 2,\n",
       "         'randi': 2,\n",
       "         '08700621170150p': 2,\n",
       "         'arrang': 2,\n",
       "         'uniqu': 2,\n",
       "         'enough': 2,\n",
       "         'august': 2,\n",
       "         'dream': 2,\n",
       "         'soon': 2,\n",
       "         'horo': 2,\n",
       "         'sign': 2,\n",
       "         'sam': 2,\n",
       "         '125gift': 2,\n",
       "         '69698': 2,\n",
       "         'qualiti': 2,\n",
       "         'pay': 2,\n",
       "         'sim': 2,\n",
       "         '021': 2,\n",
       "         'blind': 2,\n",
       "         '82468': 2,\n",
       "         'smart': 2,\n",
       "         'fix': 2,\n",
       "         '0844': 2,\n",
       "         '861': 2,\n",
       "         '85': 2,\n",
       "         'prepay': 2,\n",
       "         'lifetim': 2,\n",
       "         'shag': 2,\n",
       "         'avail': 2,\n",
       "         '4mth': 2,\n",
       "         'mobilesdirect': 2,\n",
       "         '08000938767': 2,\n",
       "         'or2stoptxt': 2,\n",
       "         'true': 2,\n",
       "         'box334sk38ch': 2,\n",
       "         'competit': 2,\n",
       "         '80086': 2,\n",
       "         'lover': 2,\n",
       "         'name1': 2,\n",
       "         'name2': 2,\n",
       "         'mobno': 2,\n",
       "         'adam': 2,\n",
       "         '07123456789': 2,\n",
       "         'yahoo': 2,\n",
       "         'txtno': 2,\n",
       "         'ave': 2,\n",
       "         'purpos': 2,\n",
       "         'tenant': 2,\n",
       "         'refus': 2,\n",
       "         '0207': 2,\n",
       "         '153': 2,\n",
       "         'juli': 2,\n",
       "         'dave': 2,\n",
       "         '09061743806': 2,\n",
       "         'box326': 2,\n",
       "         'cha': 2,\n",
       "         '24hr': 2,\n",
       "         '08718738001': 2,\n",
       "         'web': 2,\n",
       "         'call09050000327': 2,\n",
       "         '2000': 2,\n",
       "         '08712402050': 2,\n",
       "         '10ppm': 2,\n",
       "         'ag': 2,\n",
       "         'promo': 2,\n",
       "         'kept': 2,\n",
       "         'result': 2,\n",
       "         '83222': 2,\n",
       "         'textbuddi': 2,\n",
       "         'search': 2,\n",
       "         '89693': 2,\n",
       "         '40533': 2,\n",
       "         'rstm': 2,\n",
       "         'sw7': 2,\n",
       "         '3ss': 2,\n",
       "         'premium': 2,\n",
       "         'sue': 2,\n",
       "         'old': 2,\n",
       "         '09071512433': 2,\n",
       "         '050703': 2,\n",
       "         'csbcm4235wc1n3xx': 2,\n",
       "         'callcost': 2,\n",
       "         'mobilesvari': 2,\n",
       "         'email': 2,\n",
       "         'nokia6650': 2,\n",
       "         '81151': 2,\n",
       "         'ctxt': 2,\n",
       "         'helplin': 2,\n",
       "         '08706091795': 2,\n",
       "         '40': 2,\n",
       "         'around': 2,\n",
       "         'premier': 2,\n",
       "         '88039': 2,\n",
       "         'tscs087147403231winawk': 2,\n",
       "         '0578': 2,\n",
       "         'commun': 2,\n",
       "         'subpoli': 2,\n",
       "         '08718727870': 2,\n",
       "         'm263uz': 2,\n",
       "         'cashto': 2,\n",
       "         '08000407165': 2,\n",
       "         'getstop': 2,\n",
       "         '88222': 2,\n",
       "         'php': 2,\n",
       "         '08002888812': 2,\n",
       "         'wed': 2,\n",
       "         '09066350750': 2,\n",
       "         'world': 2,\n",
       "         'discreet': 2,\n",
       "         'suppli': 2,\n",
       "         'virgin': 2,\n",
       "         '41685': 2,\n",
       "         'till': 2,\n",
       "         '10k': 2,\n",
       "         'liverpool': 2,\n",
       "         '09058094565': 2,\n",
       "         'remind': 2,\n",
       "         'cheaper': 2,\n",
       "         'peak': 2,\n",
       "         '88600': 2,\n",
       "         'lux': 2,\n",
       "         'filthi': 2,\n",
       "         'valid12hr': 2,\n",
       "         '09063458130': 2,\n",
       "         'polyph': 2,\n",
       "         'somebodi': 2,\n",
       "         'secretli': 2,\n",
       "         'datebox1282essexcm61xn': 2,\n",
       "         'ls15hb': 2,\n",
       "         'euro': 2,\n",
       "         'flower': 2,\n",
       "         '84025': 2,\n",
       "         'lot': 2,\n",
       "         '09050003091': 2,\n",
       "         'c52': 2,\n",
       "         'p': 2,\n",
       "         '09061790121': 2,\n",
       "         'speedchat': 2,\n",
       "         '08000776320': 2,\n",
       "         'wish': 2,\n",
       "         'forget': 2,\n",
       "         'request': 2,\n",
       "         '4fil': 2,\n",
       "         'ralli': 2,\n",
       "         'energi': 2,\n",
       "         'celeb': 2,\n",
       "         'voicemail': 2,\n",
       "         'choic': 2,\n",
       "         '87021': 2,\n",
       "         'txtin': 2,\n",
       "         '4info': 2,\n",
       "         'complet': 2,\n",
       "         'hungri': 2,\n",
       "         'feel': 2,\n",
       "         'lion': 2,\n",
       "         'lionm': 2,\n",
       "         'lionp': 2,\n",
       "         'potter': 2,\n",
       "         'phoenix': 2,\n",
       "         'harri': 2,\n",
       "         'among': 2,\n",
       "         'reader': 2,\n",
       "         'balanc': 2,\n",
       "         'sauci': 2,\n",
       "         'bear': 2,\n",
       "         'upload': 2,\n",
       "         '08718730666': 2,\n",
       "         'textpod': 2,\n",
       "         'clair': 2,\n",
       "         'luci': 2,\n",
       "         'hubbi': 2,\n",
       "         'fri': 2,\n",
       "         'leav': 2,\n",
       "         '80488': 2,\n",
       "         'jsco': 2,\n",
       "         'sing': 2,\n",
       "         '7250': 2,\n",
       "         'british': 2,\n",
       "         'sw73ss': 2,\n",
       "         'dracula': 2,\n",
       "         'ghost': 2,\n",
       "         'addamsfa': 2,\n",
       "         'munster': 2,\n",
       "         'exorcist': 2,\n",
       "         'twilight': 2,\n",
       "         'respons': 2,\n",
       "         'cam': 2,\n",
       "         'msg150p': 2,\n",
       "         '2rcv': 2,\n",
       "         'hlp': 2,\n",
       "         '08712317606': 2,\n",
       "         '08712405022': 2,\n",
       "         'wiv': 2,\n",
       "         'marri': 2,\n",
       "         '81303': 2,\n",
       "         'hard': 2,\n",
       "         '121': 2,\n",
       "         'biggest': 2,\n",
       "         'wow': 2,\n",
       "         'boy': 2,\n",
       "         '2007': 2,\n",
       "         'tour': 2,\n",
       "         'chosen': 2,\n",
       "         'bahama': 2,\n",
       "         'buy': 2,\n",
       "         'press': 2,\n",
       "         '0': 2,\n",
       "         'purchas': 2,\n",
       "         'big': 2,\n",
       "         'excit': 2,\n",
       "         '3100': 2,\n",
       "         'straight': 2,\n",
       "         'wet': 2,\n",
       "         '89555': 2,\n",
       "         'g696ga': 2,\n",
       "         'pm': 2,\n",
       "         'upto': 2,\n",
       "         '12mth': 2,\n",
       "         '0776xxxxxxx': 2,\n",
       "         '326': 2,\n",
       "         'total': 2,\n",
       "         '80182': 2,\n",
       "         '08452810073': 2,\n",
       "         '09066358152': 2,\n",
       "         'prompt': 2,\n",
       "         'mind': 2,\n",
       "         'done': 2,\n",
       "         '61610': 2,\n",
       "         'yo': 2,\n",
       "         'tsc': 2,\n",
       "         'aom': 2,\n",
       "         'gender': 2,\n",
       "         'yer': 2,\n",
       "         'eng': 2,\n",
       "         'box39822': 2,\n",
       "         'w111wx': 2,\n",
       "         'hol': 2,\n",
       "         'med': 2,\n",
       "         'satisfi': 2,\n",
       "         'home': 2,\n",
       "         'pix': 2,\n",
       "         'ref': 2,\n",
       "         'respond': 2,\n",
       "         '300p': 2,\n",
       "         'heard': 2,\n",
       "         'u4': 2,\n",
       "         'rude': 2,\n",
       "         '8552': 2,\n",
       "         '88877': 2,\n",
       "         'lost': 2,\n",
       "         'upd8': 2,\n",
       "         '21870000': 2,\n",
       "         'mailbox': 2,\n",
       "         '09056242159': 2,\n",
       "         'retriev': 2,\n",
       "         'pub': 2,\n",
       "         'street': 2,\n",
       "         'duchess': 2,\n",
       "         'cornwal': 2,\n",
       "         '008704050406': 2,\n",
       "         '08701417012150p': 2,\n",
       "         'score': 2,\n",
       "         'town': 2,\n",
       "         'babi': 2,\n",
       "         'thing': 2,\n",
       "         'slo': 2,\n",
       "         '24': 2,\n",
       "         'acl03530150pm': 2,\n",
       "         'brought': 2,\n",
       "         'bx420': 2,\n",
       "         'amaz': 2,\n",
       "         'picsfree1': 2,\n",
       "         'instruct': 2,\n",
       "         'knock': 2,\n",
       "         'norm': 2,\n",
       "         '69696': 2,\n",
       "         'nyt': 2,\n",
       "         '3lp': 2,\n",
       "         'includ': 2,\n",
       "         'fastest': 2,\n",
       "         'grow': 2,\n",
       "         '2stoptxt': 2,\n",
       "         'luxuri': 2,\n",
       "         'canari': 2,\n",
       "         'island': 2,\n",
       "         'burger': 2,\n",
       "         'interflora': 2,\n",
       "         'everyon': 2,\n",
       "         'sinc': 2,\n",
       "         'warm': 2,\n",
       "         'bring': 2,\n",
       "         'sound': 2,\n",
       "         '88888': 2,\n",
       "         'realiti': 2,\n",
       "         'yet': 2,\n",
       "         'drive': 2,\n",
       "         'improv': 2,\n",
       "         'lotr': 2,\n",
       "         '08708034412': 2,\n",
       "         'lookatm': 2,\n",
       "         '09061221066': 2,\n",
       "         'fromm': 2,\n",
       "         'pobox45w2tg150p': 2,\n",
       "         'truli': 2,\n",
       "         'wo': 2,\n",
       "         'movi': 2,\n",
       "         'bank': 2,\n",
       "         'granit': 2,\n",
       "         'issu': 2,\n",
       "         'explos': 2,\n",
       "         'nasdaq': 2,\n",
       "         'symbol': 2,\n",
       "         'cdgt': 2,\n",
       "         'thur': 2,\n",
       "         'sat': 2,\n",
       "         'unabl': 2,\n",
       "         'class': 2,\n",
       "         'iscom': 2,\n",
       "         'blu': 2,\n",
       "         'wml': 2,\n",
       "         '09061743386': 2,\n",
       "         'spanish': 2,\n",
       "         'indic': 2,\n",
       "         'accid': 2,\n",
       "         '2find': 2,\n",
       "         'anoth': 2,\n",
       "         'polo': 2,\n",
       "         'suit': 2,\n",
       "         '373': 2,\n",
       "         'w1j': 2,\n",
       "         '6hl': 2,\n",
       "         'busi': 2,\n",
       "         'explicit': 2,\n",
       "         'sec': 2,\n",
       "         '02073162414': 2,\n",
       "         '89070': 2,\n",
       "         'mnth': 2,\n",
       "         '86888': 2,\n",
       "         '3hr': 2,\n",
       "         'txtstop': 2,\n",
       "         ...})"
      ]
     },
     "execution_count": 49,
     "metadata": {},
     "output_type": "execute_result"
    }
   ],
   "source": [
    "from collections import Counter\n",
    "Counter(spam_corpus)"
   ]
  },
  {
   "cell_type": "code",
   "execution_count": 50,
   "id": "81e97ec6-04db-4e0a-aceb-f25bd6bbbd4a",
   "metadata": {},
   "outputs": [
    {
     "data": {
      "text/html": [
       "<div>\n",
       "<style scoped>\n",
       "    .dataframe tbody tr th:only-of-type {\n",
       "        vertical-align: middle;\n",
       "    }\n",
       "\n",
       "    .dataframe tbody tr th {\n",
       "        vertical-align: top;\n",
       "    }\n",
       "\n",
       "    .dataframe thead th {\n",
       "        text-align: right;\n",
       "    }\n",
       "</style>\n",
       "<table border=\"1\" class=\"dataframe\">\n",
       "  <thead>\n",
       "    <tr style=\"text-align: right;\">\n",
       "      <th></th>\n",
       "      <th>0</th>\n",
       "      <th>1</th>\n",
       "    </tr>\n",
       "  </thead>\n",
       "  <tbody>\n",
       "    <tr>\n",
       "      <th>0</th>\n",
       "      <td>call</td>\n",
       "      <td>320</td>\n",
       "    </tr>\n",
       "    <tr>\n",
       "      <th>1</th>\n",
       "      <td>free</td>\n",
       "      <td>191</td>\n",
       "    </tr>\n",
       "    <tr>\n",
       "      <th>2</th>\n",
       "      <td>2</td>\n",
       "      <td>155</td>\n",
       "    </tr>\n",
       "    <tr>\n",
       "      <th>3</th>\n",
       "      <td>txt</td>\n",
       "      <td>141</td>\n",
       "    </tr>\n",
       "    <tr>\n",
       "      <th>4</th>\n",
       "      <td>text</td>\n",
       "      <td>122</td>\n",
       "    </tr>\n",
       "    <tr>\n",
       "      <th>5</th>\n",
       "      <td>u</td>\n",
       "      <td>119</td>\n",
       "    </tr>\n",
       "    <tr>\n",
       "      <th>6</th>\n",
       "      <td>ur</td>\n",
       "      <td>119</td>\n",
       "    </tr>\n",
       "    <tr>\n",
       "      <th>7</th>\n",
       "      <td>mobil</td>\n",
       "      <td>114</td>\n",
       "    </tr>\n",
       "    <tr>\n",
       "      <th>8</th>\n",
       "      <td>stop</td>\n",
       "      <td>104</td>\n",
       "    </tr>\n",
       "    <tr>\n",
       "      <th>9</th>\n",
       "      <td>repli</td>\n",
       "      <td>103</td>\n",
       "    </tr>\n",
       "    <tr>\n",
       "      <th>10</th>\n",
       "      <td>claim</td>\n",
       "      <td>98</td>\n",
       "    </tr>\n",
       "    <tr>\n",
       "      <th>11</th>\n",
       "      <td>4</td>\n",
       "      <td>97</td>\n",
       "    </tr>\n",
       "    <tr>\n",
       "      <th>12</th>\n",
       "      <td>prize</td>\n",
       "      <td>82</td>\n",
       "    </tr>\n",
       "    <tr>\n",
       "      <th>13</th>\n",
       "      <td>get</td>\n",
       "      <td>74</td>\n",
       "    </tr>\n",
       "    <tr>\n",
       "      <th>14</th>\n",
       "      <td>new</td>\n",
       "      <td>64</td>\n",
       "    </tr>\n",
       "    <tr>\n",
       "      <th>15</th>\n",
       "      <td>servic</td>\n",
       "      <td>64</td>\n",
       "    </tr>\n",
       "    <tr>\n",
       "      <th>16</th>\n",
       "      <td>tone</td>\n",
       "      <td>63</td>\n",
       "    </tr>\n",
       "    <tr>\n",
       "      <th>17</th>\n",
       "      <td>send</td>\n",
       "      <td>60</td>\n",
       "    </tr>\n",
       "    <tr>\n",
       "      <th>18</th>\n",
       "      <td>urgent</td>\n",
       "      <td>57</td>\n",
       "    </tr>\n",
       "    <tr>\n",
       "      <th>19</th>\n",
       "      <td>nokia</td>\n",
       "      <td>57</td>\n",
       "    </tr>\n",
       "    <tr>\n",
       "      <th>20</th>\n",
       "      <td>contact</td>\n",
       "      <td>56</td>\n",
       "    </tr>\n",
       "    <tr>\n",
       "      <th>21</th>\n",
       "      <td>award</td>\n",
       "      <td>55</td>\n",
       "    </tr>\n",
       "    <tr>\n",
       "      <th>22</th>\n",
       "      <td>phone</td>\n",
       "      <td>52</td>\n",
       "    </tr>\n",
       "    <tr>\n",
       "      <th>23</th>\n",
       "      <td>cash</td>\n",
       "      <td>51</td>\n",
       "    </tr>\n",
       "    <tr>\n",
       "      <th>24</th>\n",
       "      <td>pleas</td>\n",
       "      <td>51</td>\n",
       "    </tr>\n",
       "    <tr>\n",
       "      <th>25</th>\n",
       "      <td>week</td>\n",
       "      <td>49</td>\n",
       "    </tr>\n",
       "    <tr>\n",
       "      <th>26</th>\n",
       "      <td>win</td>\n",
       "      <td>48</td>\n",
       "    </tr>\n",
       "    <tr>\n",
       "      <th>27</th>\n",
       "      <td>c</td>\n",
       "      <td>45</td>\n",
       "    </tr>\n",
       "    <tr>\n",
       "      <th>28</th>\n",
       "      <td>collect</td>\n",
       "      <td>45</td>\n",
       "    </tr>\n",
       "    <tr>\n",
       "      <th>29</th>\n",
       "      <td>min</td>\n",
       "      <td>45</td>\n",
       "    </tr>\n",
       "  </tbody>\n",
       "</table>\n",
       "</div>"
      ],
      "text/plain": [
       "          0    1\n",
       "0      call  320\n",
       "1      free  191\n",
       "2         2  155\n",
       "3       txt  141\n",
       "4      text  122\n",
       "5         u  119\n",
       "6        ur  119\n",
       "7     mobil  114\n",
       "8      stop  104\n",
       "9     repli  103\n",
       "10    claim   98\n",
       "11        4   97\n",
       "12    prize   82\n",
       "13      get   74\n",
       "14      new   64\n",
       "15   servic   64\n",
       "16     tone   63\n",
       "17     send   60\n",
       "18   urgent   57\n",
       "19    nokia   57\n",
       "20  contact   56\n",
       "21    award   55\n",
       "22    phone   52\n",
       "23     cash   51\n",
       "24    pleas   51\n",
       "25     week   49\n",
       "26      win   48\n",
       "27        c   45\n",
       "28  collect   45\n",
       "29      min   45"
      ]
     },
     "execution_count": 50,
     "metadata": {},
     "output_type": "execute_result"
    }
   ],
   "source": [
    "pd.DataFrame(Counter(spam_corpus).most_common(30))"
   ]
  },
  {
   "cell_type": "code",
   "execution_count": 51,
   "id": "184e801e-6fe8-43ef-9072-ba69509c73cc",
   "metadata": {},
   "outputs": [
    {
     "data": {
      "image/png": "[encoded data removed]",
      "text/plain": [
       "<Figure size 640x480 with 1 Axes>"
      ]
     },
     "metadata": {},
     "output_type": "display_data"
    }
   ],
   "source": [
    "import seaborn as sns\n",
    "sns.barplot(x=pd.DataFrame(Counter(spam_corpus).most_common(30))[0],y=pd.DataFrame(Counter(spam_corpus).most_common(30))[1])\n",
    "plt.xticks(rotation='vertical')\n",
    "plt.title(\"Frequently used words in spam messages\")\n",
    "plt.show()"
   ]
  },
  {
   "cell_type": "code",
   "execution_count": 52,
   "id": "ffa3f219-7a41-4887-8c0a-abd7f1025210",
   "metadata": {},
   "outputs": [],
   "source": [
    "ham_corpus=[]\n",
    "for msg in df[df['category']==0]['transform_text'].tolist():\n",
    "    for word in msg.split():\n",
    "        ham_corpus.append(word)\n",
    "        "
   ]
  },
  {
   "cell_type": "code",
   "execution_count": 53,
   "id": "01adec29-8576-4645-9a7c-9ca1da151f73",
   "metadata": {},
   "outputs": [
    {
     "data": {
      "text/plain": [
       "35305"
      ]
     },
     "execution_count": 53,
     "metadata": {},
     "output_type": "execute_result"
    }
   ],
   "source": [
    "len(ham_corpus)"
   ]
  },
  {
   "cell_type": "code",
   "execution_count": 54,
   "id": "930e018b-5821-46e3-922b-8cfb1d93afa8",
   "metadata": {},
   "outputs": [
    {
     "data": {
      "image/png": "[encoded data removed]",
      "text/plain": [
       "<Figure size 640x480 with 1 Axes>"
      ]
     },
     "metadata": {},
     "output_type": "display_data"
    }
   ],
   "source": [
    "sns.barplot(x=pd.DataFrame(Counter(ham_corpus).most_common(30))[0],y=pd.DataFrame(Counter(ham_corpus).most_common(30))[1])\n",
    "plt.xticks(rotation='vertical')\n",
    "plt.title(\"Frequently used words in ham messages\")\n",
    "plt.show()"
   ]
  },
  {
   "cell_type": "markdown",
   "id": "95be7fad-a380-4a0b-95cf-436eb2e242ac",
   "metadata": {},
   "source": [
    "## Model building - Naive Baye's\n",
    "It is known that the model that performs best on textual data is the naive baye's , so we will first build a model based on that and build other models and compare"
   ]
  },
  {
   "cell_type": "markdown",
   "id": "f41763bc-a997-4b36-b7d2-dea64aae4d9a",
   "metadata": {},
   "source": [
    "The input needs to be in numbers- that is done through vectorization\n",
    "#### Vectorization through bag of words\n"
   ]
  },
  {
   "cell_type": "code",
   "execution_count": 55,
   "id": "8e1519c0-53f2-44a9-9766-5b719f1cb989",
   "metadata": {},
   "outputs": [],
   "source": [
    "from sklearn.feature_extraction.text import CountVectorizer\n",
    "cv=CountVectorizer()"
   ]
  },
  {
   "cell_type": "code",
   "execution_count": 56,
   "id": "12419159-f213-4dbf-b167-56a4c3b4af64",
   "metadata": {},
   "outputs": [],
   "source": [
    "X=cv.fit_transform(df['transform_text']).toarray()"
   ]
  },
  {
   "cell_type": "code",
   "execution_count": 57,
   "id": "461912f5-6f41-4b80-bf4e-99d2c7a921fe",
   "metadata": {},
   "outputs": [
    {
     "data": {
      "text/plain": [
       "(5169, 6674)"
      ]
     },
     "execution_count": 57,
     "metadata": {},
     "output_type": "execute_result"
    }
   ],
   "source": [
    "X.shape  "
   ]
  },
  {
   "cell_type": "code",
   "execution_count": 58,
   "id": "23c8f9c0-8c55-431f-bd0e-652dee93d6ac",
   "metadata": {},
   "outputs": [],
   "source": [
    "y=df['category'].values"
   ]
  },
  {
   "cell_type": "code",
   "execution_count": 59,
   "id": "8ab0374e-452f-454b-96e5-a5a6dcf7c52a",
   "metadata": {},
   "outputs": [],
   "source": [
    "from sklearn.model_selection import train_test_split"
   ]
  },
  {
   "cell_type": "code",
   "execution_count": 60,
   "id": "edcfcc62-b1b8-415f-b243-b043f9158a09",
   "metadata": {},
   "outputs": [],
   "source": [
    "X_train,X_test,y_train,y_test=train_test_split(X,y,test_size=0.2,random_state=2)"
   ]
  },
  {
   "cell_type": "code",
   "execution_count": 61,
   "id": "ce2192c2-3257-4033-832f-79b6d27667c6",
   "metadata": {},
   "outputs": [],
   "source": [
    "from sklearn.naive_bayes import GaussianNB,MultinomialNB,BernoulliNB\n",
    "from sklearn.metrics import accuracy_score,confusion_matrix,precision_score"
   ]
  },
  {
   "cell_type": "code",
   "execution_count": 62,
   "id": "0f4f5969-2efb-48a2-af18-e7e6f8f57393",
   "metadata": {},
   "outputs": [],
   "source": [
    "gnb=GaussianNB()\n",
    "mnb=MultinomialNB()\n",
    "bnb=BernoulliNB()"
   ]
  },
  {
   "cell_type": "markdown",
   "id": "db734b2f-fee7-418d-bf51-ebd474c49316",
   "metadata": {},
   "source": [
    "#### Results of the Gaussian Naive Bayes Model"
   ]
  },
  {
   "cell_type": "code",
   "execution_count": 63,
   "id": "b1838650-3562-4ba7-8e2f-f57ed9f6b5ff",
   "metadata": {},
   "outputs": [
    {
     "name": "stdout",
     "output_type": "stream",
     "text": [
      "0.8781431334622823\n",
      "[[790 106]\n",
      " [ 20 118]]\n",
      "0.5267857142857143\n"
     ]
    }
   ],
   "source": [
    "gnb.fit(X_train,y_train)\n",
    "y_pred1=gnb.predict(X_test)\n",
    "print(accuracy_score(y_test,y_pred1))\n",
    "print(confusion_matrix(y_test,y_pred1))\n",
    "print(precision_score(y_test,y_pred1))"
   ]
  },
  {
   "cell_type": "markdown",
   "id": "b9a26d86-07ce-4df6-9a47-dcbcd951207d",
   "metadata": {},
   "source": [
    "#### Results of the Multinomial Naive Bayes Model"
   ]
  },
  {
   "cell_type": "code",
   "execution_count": 64,
   "id": "cf4551a4-9735-4241-8306-87d1dcb56754",
   "metadata": {},
   "outputs": [
    {
     "name": "stdout",
     "output_type": "stream",
     "text": [
      "0.9642166344294004\n",
      "[[871  25]\n",
      " [ 12 126]]\n",
      "0.8344370860927153\n"
     ]
    }
   ],
   "source": [
    "mnb.fit(X_train,y_train)\n",
    "y_pred2=mnb.predict(X_test)\n",
    "print(accuracy_score(y_test,y_pred2))\n",
    "print(confusion_matrix(y_test,y_pred2))\n",
    "print(precision_score(y_test,y_pred2))"
   ]
  },
  {
   "cell_type": "markdown",
   "id": "be215bd9-13d0-46e2-8b79-e3b854de9226",
   "metadata": {},
   "source": [
    "#### Results of the Bernoulli Naive Bayes Model"
   ]
  },
  {
   "cell_type": "code",
   "execution_count": 65,
   "id": "df4aaf30-817e-4502-863d-c4cb74ae2cba",
   "metadata": {},
   "outputs": [
    {
     "name": "stdout",
     "output_type": "stream",
     "text": [
      "0.971953578336557\n",
      "[[894   2]\n",
      " [ 27 111]]\n",
      "0.9823008849557522\n"
     ]
    }
   ],
   "source": [
    "bnb.fit(X_train,y_train)\n",
    "y_pred3=bnb.predict(X_test)\n",
    "print(accuracy_score(y_test,y_pred3))\n",
    "print(confusion_matrix(y_test,y_pred3))\n",
    "print(precision_score(y_test,y_pred3))"
   ]
  },
  {
   "cell_type": "markdown",
   "id": "414d6960-8da1-43f3-99a3-4860628779d9",
   "metadata": {},
   "source": [
    "#### Lets try to use TfidVectorizer for our model building"
   ]
  },
  {
   "cell_type": "code",
   "execution_count": 71,
   "id": "2f6fb09a-a3ef-4ae3-9178-792756a77745",
   "metadata": {},
   "outputs": [],
   "source": [
    "from sklearn.feature_extraction.text import TfidfVectorizer"
   ]
  },
  {
   "cell_type": "code",
   "execution_count": 81,
   "id": "f6a08ab6-9554-44be-9091-bf408b0eeb7d",
   "metadata": {},
   "outputs": [],
   "source": [
    "tfidf=TfidfVectorizer(max_features=3000) \n",
    "#we can try to restrict our model to use the most frquenty used 3000 words instead of takin all the unique words"
   ]
  },
  {
   "cell_type": "code",
   "execution_count": 82,
   "id": "548b640e-f18b-4d47-a6bf-9f805cc3d287",
   "metadata": {},
   "outputs": [],
   "source": [
    "X=tfidf.fit_transform(df['transform_text']).toarray()\n",
    "y=df['category'].values"
   ]
  },
  {
   "cell_type": "code",
   "execution_count": 83,
   "id": "56f192e6-43c7-4af0-85df-183ad64f4e60",
   "metadata": {},
   "outputs": [],
   "source": [
    "X_train,X_test,y_train,y_test=train_test_split(X,y,test_size=0.2,random_state=2)"
   ]
  },
  {
   "cell_type": "code",
   "execution_count": 84,
   "id": "0b5673a8-bb98-4d16-a154-5d844648290c",
   "metadata": {},
   "outputs": [
    {
     "name": "stdout",
     "output_type": "stream",
     "text": [
      "0.8733075435203095\n",
      "[[791 105]\n",
      " [ 26 112]]\n",
      "0.5161290322580645\n"
     ]
    }
   ],
   "source": [
    "gnb.fit(X_train,y_train)\n",
    "y_pred1=gnb.predict(X_test)\n",
    "print(accuracy_score(y_test,y_pred1))\n",
    "print(confusion_matrix(y_test,y_pred1))\n",
    "print(precision_score(y_test,y_pred1))"
   ]
  },
  {
   "cell_type": "code",
   "execution_count": 85,
   "id": "fc3814c1-31ca-4e49-978f-1f20be1a8128",
   "metadata": {},
   "outputs": [
    {
     "name": "stdout",
     "output_type": "stream",
     "text": [
      "0.971953578336557\n",
      "[[896   0]\n",
      " [ 29 109]]\n",
      "1.0\n"
     ]
    }
   ],
   "source": [
    "mnb.fit(X_train,y_train)\n",
    "y_pred2=mnb.predict(X_test)\n",
    "print(accuracy_score(y_test,y_pred2))\n",
    "print(confusion_matrix(y_test,y_pred2))\n",
    "print(precision_score(y_test,y_pred2))"
   ]
  },
  {
   "cell_type": "code",
   "execution_count": 86,
   "id": "d3a82a5a-039b-4408-a013-a0d70e544131",
   "metadata": {},
   "outputs": [
    {
     "name": "stdout",
     "output_type": "stream",
     "text": [
      "0.9835589941972921\n",
      "[[895   1]\n",
      " [ 16 122]]\n",
      "0.991869918699187\n"
     ]
    }
   ],
   "source": [
    "bnb.fit(X_train,y_train)\n",
    "y_pred3=bnb.predict(X_test)\n",
    "print(accuracy_score(y_test,y_pred3))\n",
    "print(confusion_matrix(y_test,y_pred3))\n",
    "print(precision_score(y_test,y_pred3))"
   ]
  },
  {
   "cell_type": "markdown",
   "id": "0bb216ae-d98b-4a64-8269-7a17f20f5ca2",
   "metadata": {},
   "source": [
    "##### Since, our model should be more focused on false positives we will take the multinomial naive bayes with TfidfVectorizor ,because it has a precision score of 1. Here,accuracy_score is not a good measure because the data is imbalanced\n",
    "\n",
    "#### tfidf->MNB"
   ]
  },
  {
   "cell_type": "markdown",
   "id": "c3bde001-832f-4404-a09e-1f202cacebba",
   "metadata": {},
   "source": [
    "### Improving our model \n",
    "\n",
    "We have performed our experimentation using scacling and changing the value of max features of the tfidf but not much improvement was seen"
   ]
  },
  {
   "cell_type": "markdown",
   "id": "9f82c4f3-3b0c-4fe2-92d2-f15c796a337e",
   "metadata": {},
   "source": [
    "### Making the model"
   ]
  },
  {
   "cell_type": "code",
   "execution_count": 93,
   "id": "d28c6ff3-5155-41d5-abe8-250050e438c0",
   "metadata": {},
   "outputs": [],
   "source": [
    "import pickle\n",
    "pickle.dump(tfidf,open('vectorizer.pkl','wb'))\n",
    "pickle.dump(mnb,open('model.pkl','wb'))"
   ]
  },
  {
   "cell_type": "code",
   "execution_count": null,
   "id": "0e63d6bf-e947-415a-b888-7a45cc397794",
   "metadata": {},
   "outputs": [],
   "source": []
  },
  {
   "cell_type": "code",
   "execution_count": null,
   "id": "4d529496-eb1f-45c8-a285-4c1675e9da8a",
   "metadata": {},
   "outputs": [],
   "source": []
  },
  {
   "cell_type": "code",
   "execution_count": null,
   "id": "435889ba-99c3-4ec7-a1ca-a7762787bb8c",
   "metadata": {},
   "outputs": [],
   "source": []
  },
  {
   "cell_type": "code",
   "execution_count": null,
   "id": "1cbb9164-839b-4147-b665-a1bed9836297",
   "metadata": {},
   "outputs": [],
   "source": []
  },
  {
   "cell_type": "code",
   "execution_count": null,
   "id": "14925436-79ad-44d3-8e0d-fa52768b0aa4",
   "metadata": {},
   "outputs": [],
   "source": []
  },
  {
   "cell_type": "code",
   "execution_count": null,
   "id": "e759ed0e-91b7-47bb-8500-d89da22810bf",
   "metadata": {},
   "outputs": [],
   "source": []
  },
  {
   "cell_type": "code",
   "execution_count": null,
   "id": "e27bff9c-5153-44f4-b2fd-1b4f8a410d99",
   "metadata": {},
   "outputs": [],
   "source": []
  },
  {
   "cell_type": "code",
   "execution_count": null,
   "id": "6664c309-2a00-4985-ac3d-c3873513955a",
   "metadata": {},
   "outputs": [],
   "source": []
  }
 ],
 "metadata": {
  "kernelspec": {
   "display_name": "Python 3 (ipykernel)",
   "language": "python",
   "name": "python3"
  },
  "language_info": {
   "codemirror_mode": {
    "name": "ipython",
    "version": 3
   },
   "file_extension": ".py",
   "mimetype": "text/x-python",
   "name": "python",
   "nbconvert_exporter": "python",
   "pygments_lexer": "ipython3",
   "version": "3.11.7"
  }
 },
 "nbformat": 4,
 "nbformat_minor": 5
}
